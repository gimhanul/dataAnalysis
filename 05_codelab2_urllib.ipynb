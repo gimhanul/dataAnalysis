{
  "nbformat": 4,
  "nbformat_minor": 0,
  "metadata": {
    "colab": {
      "name": "05_codelab2_urllib.ipynb",
      "provenance": [],
      "collapsed_sections": [],
      "include_colab_link": true
    },
    "kernelspec": {
      "name": "python3",
      "display_name": "Python 3"
    },
    "language_info": {
      "name": "python"
    }
  },
  "cells": [
    {
      "cell_type": "markdown",
      "metadata": {
        "id": "view-in-github",
        "colab_type": "text"
      },
      "source": [
        "<a href=\"https://colab.research.google.com/github/gimhanul/dataAnalysis/blob/master/05_codelab2_urllib.ipynb\" target=\"_parent\"><img src=\"https://colab.research.google.com/assets/colab-badge.svg\" alt=\"Open In Colab\"/></a>"
      ]
    },
    {
      "cell_type": "markdown",
      "source": [
        "\n",
        "---\n",
        "\n",
        "# **해결문제**\n",
        "\n",
        "\n",
        "공공데이터 포털 사이트에서 한국환경공단_에어코리아_미세먼지 경보 발령 현황 자료를 수집하여 분석하시오.\n",
        "\n",
        "\n",
        "---"
      ],
      "metadata": {
        "id": "7VhPcEndQMR-"
      }
    },
    {
      "cell_type": "code",
      "source": [
        "from google.colab import drive\n",
        "drive.mount('/content/drive')"
      ],
      "metadata": {
        "colab": {
          "base_uri": "https://localhost:8080/"
        },
        "id": "hDkEiyJfHsrY",
        "outputId": "690b040b-443f-4dac-9aad-ccf156c1026b"
      },
      "execution_count": 1,
      "outputs": [
        {
          "output_type": "stream",
          "name": "stdout",
          "text": [
            "Mounted at /content/drive\n"
          ]
        }
      ]
    },
    {
      "cell_type": "code",
      "source": [
        "#한글 폰트 사용설치\n",
        "%config InlineBackend.figure_format = 'retina'\n",
        "\n",
        "!apt -qq -y install fonts-nanum"
      ],
      "metadata": {
        "colab": {
          "base_uri": "https://localhost:8080/"
        },
        "id": "7hwV8emRXW1z",
        "outputId": "cde0159d-b85c-4b99-c4cb-efeb9fd34ec0"
      },
      "execution_count": 2,
      "outputs": [
        {
          "output_type": "stream",
          "name": "stdout",
          "text": [
            "The following NEW packages will be installed:\n",
            "  fonts-nanum\n",
            "0 upgraded, 1 newly installed, 0 to remove and 37 not upgraded.\n",
            "Need to get 9,604 kB of archives.\n",
            "After this operation, 29.5 MB of additional disk space will be used.\n",
            "Selecting previously unselected package fonts-nanum.\n",
            "(Reading database ... 155225 files and directories currently installed.)\n",
            "Preparing to unpack .../fonts-nanum_20170925-1_all.deb ...\n",
            "Unpacking fonts-nanum (20170925-1) ...\n",
            "Setting up fonts-nanum (20170925-1) ...\n",
            "Processing triggers for fontconfig (2.12.6-0ubuntu2) ...\n"
          ]
        }
      ]
    },
    {
      "cell_type": "code",
      "source": [
        "import matplotlib.pyplot as plt\n",
        "import matplotlib as mpl\n",
        "import matplotlib.font_manager as fm\n",
        "fontpath = '/usr/share/fonts/truetype/nanum/NanumBarunGothic.ttf'\n",
        "font = fm.FontProperties(fname=fontpath, size=9)\n",
        "plt.rc('font', family='NanumBarunGothic') \n",
        "mpl.font_manager._rebuild()"
      ],
      "metadata": {
        "id": "kfPUahIzXaNB"
      },
      "execution_count": 10,
      "outputs": []
    },
    {
      "cell_type": "code",
      "source": [
        "plt.title('한글')\n",
        "plt.show()"
      ],
      "metadata": {
        "colab": {
          "base_uri": "https://localhost:8080/",
          "height": 280
        },
        "id": "RY2nf3uwXc98",
        "outputId": "05501150-5359-4519-99d9-bcbb9ef8118a"
      },
      "execution_count": 8,
      "outputs": [
        {
          "output_type": "display_data",
          "data": {
            "image/png": "[encoded data removed]",
            "text/plain": [
              "<Figure size 432x288 with 1 Axes>"
            ]
          },
          "metadata": {
            "needs_background": "light"
          }
        }
      ]
    },
    {
      "cell_type": "markdown",
      "metadata": {
        "id": "7moL-iWT_MUw"
      },
      "source": [
        "#urllib 모듈\n",
        "+ URL과 웹 요청에 관련된 모듈들 패키지로 묶어 제공"
      ]
    },
    {
      "cell_type": "markdown",
      "metadata": {
        "id": "P2nLzn8h_P2L"
      },
      "source": [
        "## urllib.request 모듈\n",
        "* 웹 페이지 요청 및 데이터를 가져올 수 있음"
      ]
    },
    {
      "cell_type": "markdown",
      "metadata": {
        "id": "SiBFl2GU_ih3"
      },
      "source": [
        "### urllib.request.urlopen(url, data)\n",
        "* 웹 서버에 정보를 요청한 후, 돌려받은 응답을 저장하여 ‘**응답 객체(HTTPResponse)**’를 반환\n",
        "* data는 서버로 전송할 추가 데이터를 지정하는 객체\n",
        "* 반환된 응답 객체:  read() 메서드를 실행\n",
        "   - 웹 서버가 응답한 데이터를 바이트 배열로 읽어들임\n",
        "   - 읽어들인 바이트 배열 : 이진수로 이루어진 수열이어서 **텍스트 형식의 데이터를 decode('utf-8') 메서드를 실행하여 문자열로 변환**\n",
        "\n",
        "* 참고) **Byte 데이터**\n",
        "  + 1바이트(0~255사이 코드)로 표현되는 문자 표현\n",
        "  + 문자열에서 사용하는 연산을 거의 제공\n",
        "    - 인덱싱/슬라이싱, in, Upper(), Split()\n",
        "  + 지원 메소드\n",
        "    - **decode(인코딩값)** : 바이트->문자열로 변환  \n",
        "    - **encode()** : 문자열->바이트로 변환  \n"
      ]
    },
    {
      "cell_type": "markdown",
      "metadata": {
        "id": "Ji2KEhafDwtU"
      },
      "source": [
        "### urllib.request.Request(url, headers={})\n",
        "* POST방식으로 데이터를 보내려고 할 경우 \n",
        "  + URL : 요청 주소\n",
        "  * headers : 딕셔너리형태의 헤더"
      ]
    },
    {
      "cell_type": "code",
      "metadata": {
        "id": "pPOHa5HA-7W0"
      },
      "source": [
        "from urllib.request import Request, urlopen\n",
        "import json  "
      ],
      "execution_count": 9,
      "outputs": []
    },
    {
      "cell_type": "markdown",
      "metadata": {
        "id": "VEuJKvjNFpkM"
      },
      "source": [
        "+ 공공데이터 포털 : https://www.data.go.kr/"
      ]
    },
    {
      "cell_type": "code",
      "metadata": {
        "id": "lWmOfcPfEkcG",
        "colab": {
          "base_uri": "https://localhost:8080/",
          "height": 55
        },
        "outputId": "cf046913-742d-457b-d2ec-ce6f51bcc534"
      },
      "source": [
        "#접속 URL 생성\n",
        "url = \"http://kobis.or.kr/kobisopenapi/webservice/rest/boxoffice/searchDailyBoxOfficeList.json?key=f5eef3421c602c6cb7ea224104795888&targetDt=20220103\"\n",
        "url"
      ],
      "execution_count": null,
      "outputs": [
        {
          "output_type": "execute_result",
          "data": {
            "application/vnd.google.colaboratory.intrinsic+json": {
              "type": "string"
            },
            "text/plain": [
              "'http://kobis.or.kr/kobisopenapi/webservice/rest/boxoffice/searchDailyBoxOfficeList.json?key=f5eef3421c602c6cb7ea224104795888&targetDt=20220103'"
            ]
          },
          "metadata": {},
          "execution_count": 22
        }
      ]
    },
    {
      "cell_type": "code",
      "metadata": {
        "id": "hJJVQnz1EsmF"
      },
      "source": [
        "#요청\n",
        "response = urlopen(url)"
      ],
      "execution_count": null,
      "outputs": []
    },
    {
      "cell_type": "code",
      "metadata": {
        "colab": {
          "base_uri": "https://localhost:8080/"
        },
        "id": "5hd-rKdlB3om",
        "outputId": "da8b9768-c3d1-4f9f-ce39-8a222a61bec0"
      },
      "source": [
        "response "
      ],
      "execution_count": null,
      "outputs": [
        {
          "output_type": "execute_result",
          "data": {
            "text/plain": [
              "<http.client.HTTPResponse at 0x7f4bbe85fe50>"
            ]
          },
          "metadata": {},
          "execution_count": 19
        }
      ]
    },
    {
      "cell_type": "code",
      "metadata": {
        "colab": {
          "base_uri": "https://localhost:8080/",
          "height": 264
        },
        "id": "zCger518B_Gq",
        "outputId": "4be08b4b-f52d-48fb-8947-55cb991af229"
      },
      "source": [
        "response.read().decode('utf-8')"
      ],
      "execution_count": null,
      "outputs": [
        {
          "output_type": "execute_result",
          "data": {
            "application/vnd.google.colaboratory.intrinsic+json": {
              "type": "string"
            },
            "text/plain": [
              "'{\"boxOfficeResult\":{\"boxofficeType\":\"일별 박스오피스\",\"showRange\":\"20220103~20220103\",\"dailyBoxOfficeList\":[{\"rnum\":\"1\",\"rank\":\"1\",\"rankInten\":\"0\",\"rankOldAndNew\":\"OLD\",\"movieCd\":\"20210028\",\"movieNm\":\"스파이더맨: 노 웨이 홈\",\"openDt\":\"2021-12-15\",\"salesAmt\":\"667909720\",\"salesShare\":\"62.5\",\"salesInten\":\"-1649563350\",\"salesChange\":\"-71.2\",\"salesAcc\":\"61641856910\",\"audiCnt\":\"66799\",\"audiInten\":\"-158578\",\"audiChange\":\"-70.4\",\"audiAcc\":\"6141100\",\"scrnCnt\":\"1985\",\"showCnt\":\"6840\"},{\"rnum\":\"2\",\"rank\":\"2\",\"rankInten\":\"0\",\"rankOldAndNew\":\"OLD\",\"movieCd\":\"20194403\",\"movieNm\":\"킹스맨: 퍼스트 에이전트\",\"openDt\":\"2021-12-22\",\"salesAmt\":\"231886460\",\"salesShare\":\"21.7\",\"salesInten\":\"-489853890\",\"salesChange\":\"-67.9\",\"salesAcc\":\"7971389280\",\"audiCnt\":\"23748\",\"audiInten\":\"-46491\",\"audiChange\":\"-66.2\",\"audiAcc\":\"800139\",\"scrnCnt\":\"861\",\"showCnt\":\"2459\"},{\"rnum\":\"3\",\"rank\":\"3\",\"rankInten\":\"0\",\"rankOldAndNew\":\"OLD\",\"movieCd\":\"20217807\",\"movieNm\":\"해피 뉴 이어\",\"openDt\":\"2021-12-29\",\"salesAmt\":\"96467670\",\"salesShare\":\"9.0\",\"salesInten\":\"-201370440\",\"salesChange\":\"-67.6\",\"salesAcc\":\"1833383770\",\"audiCnt\":\"10181\",\"audiInten\":\"-19568\",\"audiChange\":\"-65.8\",\"audiAcc\":\"196396\",\"scrnCnt\":\"665\",\"showCnt\":\"1776\"},{\"rnum\":\"4\",\"rank\":\"4\",\"rankInten\":\"0\",\"rankOldAndNew\":\"OLD\",\"movieCd\":\"20211281\",\"movieNm\":\"매트릭스: 리저렉션\",\"openDt\":\"2021-12-22\",\"salesAmt\":\"16642200\",\"salesShare\":\"1.6\",\"salesInten\":\"-34263830\",\"salesChange\":\"-67.3\",\"salesAcc\":\"2054031240\",\"audiCnt\":\"1843\",\"audiInten\":\"-3388\",\"audiChange\":\"-64.8\",\"audiAcc\":\"204748\",\"scrnCnt\":\"295\",\"showCnt\":\"393\"},{\"rnum\":\"5\",\"rank\":\"5\",\"rankInten\":\"2\",\"rankOldAndNew\":\"OLD\",\"movieCd\":\"20218415\",\"movieNm\":\"드라이브 마이 카\",\"openDt\":\"2021-12-23\",\"salesAmt\":\"9918610\",\"salesShare\":\"0.9\",\"salesInten\":\"-11313500\",\"salesChange\":\"-53.3\",\"salesAcc\":\"218078760\",\"audiCnt\":\"1105\",\"audiInten\":\"-933\",\"audiChange\":\"-45.8\",\"audiAcc\":\"23696\",\"scrnCnt\":\"86\",\"showCnt\":\"107\"},{\"rnum\":\"6\",\"rank\":\"6\",\"rankInten\":\"0\",\"rankOldAndNew\":\"OLD\",\"movieCd\":\"20211768\",\"movieNm\":\"신데렐라 2: 마법에 걸린 왕자\",\"openDt\":\"2021-12-22\",\"salesAmt\":\"8823800\",\"salesShare\":\"0.8\",\"salesInten\":\"-16458010\",\"salesChange\":\"-65.1\",\"salesAcc\":\"323665220\",\"audiCnt\":\"1022\",\"audiInten\":\"-1696\",\"audiChange\":\"-62.4\",\"audiAcc\":\"36771\",\"scrnCnt\":\"115\",\"showCnt\":\"140\"},{\"rnum\":\"7\",\"rank\":\"7\",\"rankInten\":\"-2\",\"rankOldAndNew\":\"OLD\",\"movieCd\":\"20210864\",\"movieNm\":\"엔칸토: 마법의 세계\",\"openDt\":\"2021-11-24\",\"salesAmt\":\"8059540\",\"salesShare\":\"0.8\",\"salesInten\":\"-19923770\",\"salesChange\":\"-71.2\",\"salesAcc\":\"5952486030\",\"audiCnt\":\"897\",\"audiInten\":\"-2070\",\"audiChange\":\"-69.8\",\"audiAcc\":\"627528\",\"scrnCnt\":\"98\",\"showCnt\":\"132\"},{\"rnum\":\"8\",\"rank\":\"8\",\"rankInten\":\"0\",\"rankOldAndNew\":\"OLD\",\"movieCd\":\"20218390\",\"movieNm\":\"램\",\"openDt\":\"2021-12-29\",\"salesAmt\":\"4984880\",\"salesShare\":\"0.5\",\"salesInten\":\"-11934030\",\"salesChange\":\"-70.5\",\"salesAcc\":\"99159070\",\"audiCnt\":\"533\",\"audiInten\":\"-1030\",\"audiChange\":\"-65.9\",\"audiAcc\":\"11058\",\"scrnCnt\":\"88\",\"showCnt\":\"110\"},{\"rnum\":\"9\",\"rank\":\"9\",\"rankInten\":\"0\",\"rankOldAndNew\":\"NEW\",\"movieCd\":\"20202433\",\"movieNm\":\"괴짜들의 로맨스\",\"openDt\":\"2021-11-17\",\"salesAmt\":\"706000\",\"salesShare\":\"0.1\",\"salesInten\":\"706000\",\"salesChange\":\"100\",\"salesAcc\":\"52382890\",\"audiCnt\":\"350\",\"audiInten\":\"350\",\"audiChange\":\"100\",\"audiAcc\":\"8101\",\"scrnCnt\":\"2\",\"showCnt\":\"2\"},{\"rnum\":\"10\",\"rank\":\"10\",\"rankInten\":\"0\",\"rankOldAndNew\":\"NEW\",\"movieCd\":\"20218764\",\"movieNm\":\"씽2게더\",\"openDt\":\"2022-01-05\",\"salesAmt\":\"2403000\",\"salesShare\":\"0.2\",\"salesInten\":\"2403000\",\"salesChange\":\"100\",\"salesAcc\":\"5021000\",\"audiCnt\":\"267\",\"audiInten\":\"267\",\"audiChange\":\"100\",\"audiAcc\":\"557\",\"scrnCnt\":\"2\",\"showCnt\":\"2\"}]}}'"
            ]
          },
          "metadata": {},
          "execution_count": 20
        }
      ]
    },
    {
      "cell_type": "code",
      "metadata": {
        "colab": {
          "base_uri": "https://localhost:8080/"
        },
        "id": "s2Y8kzyvE4jk",
        "outputId": "6538ca8e-09de-42d7-e0a4-24607edfd072"
      },
      "source": [
        "# 요청에 대한 응답처리\n",
        "resp = response.read().decode('utf-8')\n",
        "print(resp)\n",
        "print(type(resp))"
      ],
      "execution_count": null,
      "outputs": [
        {
          "output_type": "stream",
          "name": "stdout",
          "text": [
            "{\"boxOfficeResult\":{\"boxofficeType\":\"일별 박스오피스\",\"showRange\":\"20220103~20220103\",\"dailyBoxOfficeList\":[{\"rnum\":\"1\",\"rank\":\"1\",\"rankInten\":\"0\",\"rankOldAndNew\":\"OLD\",\"movieCd\":\"20210028\",\"movieNm\":\"스파이더맨: 노 웨이 홈\",\"openDt\":\"2021-12-15\",\"salesAmt\":\"667909720\",\"salesShare\":\"62.5\",\"salesInten\":\"-1649563350\",\"salesChange\":\"-71.2\",\"salesAcc\":\"61641856910\",\"audiCnt\":\"66799\",\"audiInten\":\"-158578\",\"audiChange\":\"-70.4\",\"audiAcc\":\"6141100\",\"scrnCnt\":\"1985\",\"showCnt\":\"6840\"},{\"rnum\":\"2\",\"rank\":\"2\",\"rankInten\":\"0\",\"rankOldAndNew\":\"OLD\",\"movieCd\":\"20194403\",\"movieNm\":\"킹스맨: 퍼스트 에이전트\",\"openDt\":\"2021-12-22\",\"salesAmt\":\"231886460\",\"salesShare\":\"21.7\",\"salesInten\":\"-489853890\",\"salesChange\":\"-67.9\",\"salesAcc\":\"7971389280\",\"audiCnt\":\"23748\",\"audiInten\":\"-46491\",\"audiChange\":\"-66.2\",\"audiAcc\":\"800139\",\"scrnCnt\":\"861\",\"showCnt\":\"2459\"},{\"rnum\":\"3\",\"rank\":\"3\",\"rankInten\":\"0\",\"rankOldAndNew\":\"OLD\",\"movieCd\":\"20217807\",\"movieNm\":\"해피 뉴 이어\",\"openDt\":\"2021-12-29\",\"salesAmt\":\"96467670\",\"salesShare\":\"9.0\",\"salesInten\":\"-201370440\",\"salesChange\":\"-67.6\",\"salesAcc\":\"1833383770\",\"audiCnt\":\"10181\",\"audiInten\":\"-19568\",\"audiChange\":\"-65.8\",\"audiAcc\":\"196396\",\"scrnCnt\":\"665\",\"showCnt\":\"1776\"},{\"rnum\":\"4\",\"rank\":\"4\",\"rankInten\":\"0\",\"rankOldAndNew\":\"OLD\",\"movieCd\":\"20211281\",\"movieNm\":\"매트릭스: 리저렉션\",\"openDt\":\"2021-12-22\",\"salesAmt\":\"16642200\",\"salesShare\":\"1.6\",\"salesInten\":\"-34263830\",\"salesChange\":\"-67.3\",\"salesAcc\":\"2054031240\",\"audiCnt\":\"1843\",\"audiInten\":\"-3388\",\"audiChange\":\"-64.8\",\"audiAcc\":\"204748\",\"scrnCnt\":\"295\",\"showCnt\":\"393\"},{\"rnum\":\"5\",\"rank\":\"5\",\"rankInten\":\"2\",\"rankOldAndNew\":\"OLD\",\"movieCd\":\"20218415\",\"movieNm\":\"드라이브 마이 카\",\"openDt\":\"2021-12-23\",\"salesAmt\":\"9918610\",\"salesShare\":\"0.9\",\"salesInten\":\"-11313500\",\"salesChange\":\"-53.3\",\"salesAcc\":\"218078760\",\"audiCnt\":\"1105\",\"audiInten\":\"-933\",\"audiChange\":\"-45.8\",\"audiAcc\":\"23696\",\"scrnCnt\":\"86\",\"showCnt\":\"107\"},{\"rnum\":\"6\",\"rank\":\"6\",\"rankInten\":\"0\",\"rankOldAndNew\":\"OLD\",\"movieCd\":\"20211768\",\"movieNm\":\"신데렐라 2: 마법에 걸린 왕자\",\"openDt\":\"2021-12-22\",\"salesAmt\":\"8823800\",\"salesShare\":\"0.8\",\"salesInten\":\"-16458010\",\"salesChange\":\"-65.1\",\"salesAcc\":\"323665220\",\"audiCnt\":\"1022\",\"audiInten\":\"-1696\",\"audiChange\":\"-62.4\",\"audiAcc\":\"36771\",\"scrnCnt\":\"115\",\"showCnt\":\"140\"},{\"rnum\":\"7\",\"rank\":\"7\",\"rankInten\":\"-2\",\"rankOldAndNew\":\"OLD\",\"movieCd\":\"20210864\",\"movieNm\":\"엔칸토: 마법의 세계\",\"openDt\":\"2021-11-24\",\"salesAmt\":\"8059540\",\"salesShare\":\"0.8\",\"salesInten\":\"-19923770\",\"salesChange\":\"-71.2\",\"salesAcc\":\"5952486030\",\"audiCnt\":\"897\",\"audiInten\":\"-2070\",\"audiChange\":\"-69.8\",\"audiAcc\":\"627528\",\"scrnCnt\":\"98\",\"showCnt\":\"132\"},{\"rnum\":\"8\",\"rank\":\"8\",\"rankInten\":\"0\",\"rankOldAndNew\":\"OLD\",\"movieCd\":\"20218390\",\"movieNm\":\"램\",\"openDt\":\"2021-12-29\",\"salesAmt\":\"4984880\",\"salesShare\":\"0.5\",\"salesInten\":\"-11934030\",\"salesChange\":\"-70.5\",\"salesAcc\":\"99159070\",\"audiCnt\":\"533\",\"audiInten\":\"-1030\",\"audiChange\":\"-65.9\",\"audiAcc\":\"11058\",\"scrnCnt\":\"88\",\"showCnt\":\"110\"},{\"rnum\":\"9\",\"rank\":\"9\",\"rankInten\":\"0\",\"rankOldAndNew\":\"NEW\",\"movieCd\":\"20202433\",\"movieNm\":\"괴짜들의 로맨스\",\"openDt\":\"2021-11-17\",\"salesAmt\":\"706000\",\"salesShare\":\"0.1\",\"salesInten\":\"706000\",\"salesChange\":\"100\",\"salesAcc\":\"52382890\",\"audiCnt\":\"350\",\"audiInten\":\"350\",\"audiChange\":\"100\",\"audiAcc\":\"8101\",\"scrnCnt\":\"2\",\"showCnt\":\"2\"},{\"rnum\":\"10\",\"rank\":\"10\",\"rankInten\":\"0\",\"rankOldAndNew\":\"NEW\",\"movieCd\":\"20218764\",\"movieNm\":\"씽2게더\",\"openDt\":\"2022-01-05\",\"salesAmt\":\"2403000\",\"salesShare\":\"0.2\",\"salesInten\":\"2403000\",\"salesChange\":\"100\",\"salesAcc\":\"5021000\",\"audiCnt\":\"267\",\"audiInten\":\"267\",\"audiChange\":\"100\",\"audiAcc\":\"557\",\"scrnCnt\":\"2\",\"showCnt\":\"2\"}]}}\n",
            "<class 'str'>\n"
          ]
        }
      ]
    },
    {
      "cell_type": "code",
      "source": [
        "jsonResp = json.loads(resp) \n",
        "type(jsonResp)"
      ],
      "metadata": {
        "colab": {
          "base_uri": "https://localhost:8080/"
        },
        "id": "QpZWW8J3R5Oa",
        "outputId": "936b0d9b-3b08-4f96-d78d-1f816197914e"
      },
      "execution_count": null,
      "outputs": [
        {
          "output_type": "execute_result",
          "data": {
            "text/plain": [
              "dict"
            ]
          },
          "metadata": {},
          "execution_count": 25
        }
      ]
    },
    {
      "cell_type": "code",
      "source": [
        "items = jsonResp['boxOfficeResult']['dailyBoxOfficeList']"
      ],
      "metadata": {
        "id": "8-LgZJM8Shl7"
      },
      "execution_count": null,
      "outputs": []
    },
    {
      "cell_type": "code",
      "source": [
        "print(jsonResp['boxOfficeResult']['showRange'])\n",
        "for i in items:\n",
        "  print(i['rank']+\"위 \"+i['movieNm'])"
      ],
      "metadata": {
        "colab": {
          "base_uri": "https://localhost:8080/"
        },
        "id": "yfQitBw-MDV-",
        "outputId": "c3bd5610-62fa-4342-901e-64ef9b06b235"
      },
      "execution_count": null,
      "outputs": [
        {
          "output_type": "stream",
          "name": "stdout",
          "text": [
            "20220103~20220103\n",
            "1위 스파이더맨: 노 웨이 홈\n",
            "2위 킹스맨: 퍼스트 에이전트\n",
            "3위 해피 뉴 이어\n",
            "4위 매트릭스: 리저렉션\n",
            "5위 드라이브 마이 카\n",
            "6위 신데렐라 2: 마법에 걸린 왕자\n",
            "7위 엔칸토: 마법의 세계\n",
            "8위 램\n",
            "9위 괴짜들의 로맨스\n",
            "10위 씽2게더\n"
          ]
        }
      ]
    },
    {
      "cell_type": "code",
      "source": [
        "items[0]"
      ],
      "metadata": {
        "colab": {
          "base_uri": "https://localhost:8080/"
        },
        "id": "zoYJ9i2TTGDi",
        "outputId": "8f142de2-c9f6-4faf-ffaf-d0b716c71927"
      },
      "execution_count": null,
      "outputs": [
        {
          "output_type": "execute_result",
          "data": {
            "text/plain": [
              "{'audiAcc': '6141100',\n",
              " 'audiChange': '-70.4',\n",
              " 'audiCnt': '66799',\n",
              " 'audiInten': '-158578',\n",
              " 'movieCd': '20210028',\n",
              " 'movieNm': '스파이더맨: 노 웨이 홈',\n",
              " 'openDt': '2021-12-15',\n",
              " 'rank': '1',\n",
              " 'rankInten': '0',\n",
              " 'rankOldAndNew': 'OLD',\n",
              " 'rnum': '1',\n",
              " 'salesAcc': '61641856910',\n",
              " 'salesAmt': '667909720',\n",
              " 'salesChange': '-71.2',\n",
              " 'salesInten': '-1649563350',\n",
              " 'salesShare': '62.5',\n",
              " 'scrnCnt': '1985',\n",
              " 'showCnt': '6840'}"
            ]
          },
          "metadata": {},
          "execution_count": 27
        }
      ]
    },
    {
      "cell_type": "markdown",
      "source": [
        "2020년 12월 1일~2020년 12월 31일까지 만들기"
      ],
      "metadata": {
        "id": "CCNG6ml9Nksp"
      }
    },
    {
      "cell_type": "code",
      "source": [
        "def mvAPI(dt):\n",
        "  url = \"http://kobis.or.kr/kobisopenapi/webservice/rest/boxoffice/searchDailyBoxOfficeList.json?key=f5eef3421c602c6cb7ea224104795888&targetDt=\"\n",
        "  url = url+str(dt)\n",
        "\n",
        "  resp = urlopen(url).read().decode('utf-8')\n",
        "  jsonResp = json.loads(resp)\n",
        "\n",
        "  showRange = jsonResp['boxOfficeResult']['showRange']\n",
        "  day = showRange[:4] + '-' + showRange[4:6] + '-' + showRange[6:8]\n",
        "  info = ''\n",
        "  for i in jsonResp['boxOfficeResult']['dailyBoxOfficeList']:\n",
        "    info = info + f\"{ day },{ i['rank'] },{ i['movieNm'] },{ i['audiCnt'] },{ i['audiAcc'] }\\n\"\n",
        "\n",
        "  return info\n",
        "\n",
        "with open('/content/drive/MyDrive/datathon/class/data/mv.csv', 'w') as fp:\n",
        "  fp.write('일자,순위,영화명,일관객수,누적관객수\\n')\n",
        "\n",
        "with open('/content/drive/MyDrive/datathon/class/data/mv.csv', 'a') as fp:\n",
        "  date = 20211201\n",
        "  while(date<20211232):\n",
        "    data = mvAPI(date)\n",
        "    print(data)\n",
        "    fp.write(data)\n",
        "    date += 1\n"
      ],
      "metadata": {
        "colab": {
          "base_uri": "https://localhost:8080/"
        },
        "id": "-jcegVBENsI4",
        "outputId": "9bb4dc1a-a02e-47ac-970f-41d85188a884"
      },
      "execution_count": 25,
      "outputs": [
        {
          "output_type": "stream",
          "name": "stdout",
          "text": [
            "2021-12-01,1,유체이탈자,28158,468281\n",
            "2021-12-01,2,연애 빠진 로맨스,20372,275782\n",
            "2021-12-01,3,고스트버스터즈 라이즈,20063,20608\n",
            "2021-12-01,4,엔칸토: 마법의 세계,14353,316689\n",
            "2021-12-01,5,라스트 나잇 인 소호,10291,10655\n",
            "2021-12-01,6,듄,8817,1443342\n",
            "2021-12-01,7,태일이,8121,67584\n",
            "2021-12-01,8,귀멸의 칼날: 주합회의·나비저택 편,5234,5234\n",
            "2021-12-01,9,이터널스,4625,3003717\n",
            "2021-12-01,10,장르만 로맨스,3382,487203\n",
            "\n",
            "2021-12-02,1,유체이탈자,25597,493878\n",
            "2021-12-02,2,연애 빠진 로맨스,18660,294442\n",
            "2021-12-02,3,엔칸토: 마법의 세계,13484,330173\n",
            "2021-12-02,4,고스트버스터즈 라이즈,11901,32509\n",
            "2021-12-02,5,듄,7977,1451319\n",
            "2021-12-02,6,라스트 나잇 인 소호,7237,17892\n",
            "2021-12-02,7,태일이,4516,72100\n",
            "2021-12-02,8,이터널스,3821,3007538\n",
            "2021-12-02,9,장르만 로맨스,3729,490932\n",
            "2021-12-02,10,뱅드림! 필름 라이브 세컨드 스테이지,2347,19943\n",
            "\n",
            "2021-12-03,1,유체이탈자,29150,523028\n",
            "2021-12-03,2,연애 빠진 로맨스,21918,316360\n",
            "2021-12-03,3,엔칸토: 마법의 세계,16199,346372\n",
            "2021-12-03,4,고스트버스터즈 라이즈,10969,43478\n",
            "2021-12-03,5,듄,10296,1461615\n",
            "2021-12-03,6,라스트 나잇 인 소호,4865,22757\n",
            "2021-12-03,7,이터널스,4715,3012253\n",
            "2021-12-03,8,태일이,3728,75828\n",
            "2021-12-03,9,장르만 로맨스,3623,494555\n",
            "2021-12-03,10,귀멸의 칼날: 주합회의·나비저택 편,1367,8054\n",
            "\n",
            "2021-12-04,1,유체이탈자,54578,577606\n",
            "2021-12-04,2,엔칸토: 마법의 세계,47155,393527\n",
            "2021-12-04,3,연애 빠진 로맨스,42545,358905\n",
            "2021-12-04,4,고스트버스터즈 라이즈,20217,63695\n",
            "2021-12-04,5,듄,17983,1479598\n",
            "2021-12-04,6,이터널스,8133,3020386\n",
            "2021-12-04,7,귀멸의 칼날: 주합회의·나비저택 편,6774,14828\n",
            "2021-12-04,8,라스트 나잇 인 소호,6033,28790\n",
            "2021-12-04,9,태일이,5080,80908\n",
            "2021-12-04,10,장르만 로맨스,4941,499496\n",
            "\n",
            "2021-12-05,1,유체이탈자,48900,626506\n",
            "2021-12-05,2,엔칸토: 마법의 세계,44441,437968\n",
            "2021-12-05,3,연애 빠진 로맨스,40766,399671\n",
            "2021-12-05,4,고스트버스터즈 라이즈,16450,80145\n",
            "2021-12-05,5,듄,15866,1495464\n",
            "2021-12-05,6,이터널스,7611,3027997\n",
            "2021-12-05,7,라스트 나잇 인 소호,5065,33855\n",
            "2021-12-05,8,태일이,5023,85931\n",
            "2021-12-05,9,장르만 로맨스,4556,504052\n",
            "2021-12-05,10,귀멸의 칼날: 주합회의·나비저택 편,3445,18273\n",
            "\n",
            "2021-12-06,1,유체이탈자,18719,645225\n",
            "2021-12-06,2,연애 빠진 로맨스,13200,412871\n",
            "2021-12-06,3,엔칸토: 마법의 세계,8543,446511\n",
            "2021-12-06,4,듄,4749,1500213\n",
            "2021-12-06,5,고스트버스터즈 라이즈,4444,84589\n",
            "2021-12-06,6,라스트 나잇 인 소호,2335,36190\n",
            "2021-12-06,7,이터널스,2245,3030242\n",
            "2021-12-06,8,태일이,1844,87775\n",
            "2021-12-06,9,장르만 로맨스,1678,505730\n",
            "2021-12-06,10,킬링 카인드: 킬러의 수제자,1105,7894\n",
            "\n",
            "2021-12-07,1,유체이탈자,15877,661102\n",
            "2021-12-07,2,연애 빠진 로맨스,12404,425275\n",
            "2021-12-07,3,엔칸토: 마법의 세계,8612,455123\n",
            "2021-12-07,4,고스트버스터즈 라이즈,4929,89518\n",
            "2021-12-07,5,듄,4821,1505034\n",
            "2021-12-07,6,태일이,2945,90720\n",
            "2021-12-07,7,라스트 나잇 인 소호,2253,38443\n",
            "2021-12-07,8,이터널스,2171,3032413\n",
            "2021-12-07,9,장르만 로맨스,1518,507248\n",
            "2021-12-07,10,킬링 카인드: 킬러의 수제자,1062,8956\n",
            "\n",
            "2021-12-08,1,유체이탈자,14159,675261\n",
            "2021-12-08,2,연애 빠진 로맨스,13418,438693\n",
            "2021-12-08,3,돈 룩 업,12265,12437\n",
            "2021-12-08,4,엔칸토: 마법의 세계,9837,464960\n",
            "2021-12-08,5,몬스타엑스 : 더 드리밍,7464,7464\n",
            "2021-12-08,6,듄,3984,1509018\n",
            "2021-12-08,7,고스트버스터즈 라이즈,3380,92898\n",
            "2021-12-08,8,태일이,1958,92678\n",
            "2021-12-08,9,이터널스,1809,3034222\n",
            "2021-12-08,10,장르만 로맨스,1567,508815\n",
            "\n",
            "2021-12-09,1,유체이탈자,15957,691218\n",
            "2021-12-09,2,연애 빠진 로맨스,15138,453831\n",
            "2021-12-09,3,엔칸토: 마법의 세계,8364,473324\n",
            "2021-12-09,4,돈 룩 업,7767,20204\n",
            "2021-12-09,5,극장판 소드 아트 온라인 -프로그레시브- 별 없는 밤의 아리아,5749,5749\n",
            "2021-12-09,6,몬스타엑스 : 더 드리밍,4076,11540\n",
            "2021-12-09,7,듄,3495,1512513\n",
            "2021-12-09,8,리슨,2887,3085\n",
            "2021-12-09,9,고스트버스터즈 라이즈,2771,95669\n",
            "2021-12-09,10,태일이,2412,95090\n",
            "\n",
            "2021-12-10,1,연애 빠진 로맨스,18387,472218\n",
            "2021-12-10,2,유체이탈자,17748,708966\n",
            "2021-12-10,3,엔칸토: 마법의 세계,10875,484199\n",
            "2021-12-10,4,돈 룩 업,8026,28230\n",
            "2021-12-10,5,듄,5603,1518116\n",
            "2021-12-10,6,고스트버스터즈 라이즈,2744,98413\n",
            "2021-12-10,7,몬스타엑스 : 더 드리밍,2628,14168\n",
            "2021-12-10,8,극장판 소드 아트 온라인 -프로그레시브- 별 없는 밤의 아리아,2611,8360\n",
            "2021-12-10,9,이터널스,2074,3037929\n",
            "2021-12-10,10,마이 뉴욕 다이어리,2051,6372\n",
            "\n",
            "2021-12-11,1,연애 빠진 로맨스,28783,501001\n",
            "2021-12-11,2,유체이탈자,28763,737729\n",
            "2021-12-11,3,엔칸토: 마법의 세계,26850,511049\n",
            "2021-12-11,4,돈 룩 업,13490,41720\n",
            "2021-12-11,5,듄,11282,1529398\n",
            "2021-12-11,6,고스트버스터즈 라이즈,6147,104560\n",
            "2021-12-11,7,몬스타엑스 : 더 드리밍,4770,18938\n",
            "2021-12-11,8,극장판 소드 아트 온라인 -프로그레시브- 별 없는 밤의 아리아,4459,12819\n",
            "2021-12-11,9,이터널스,4049,3041978\n",
            "2021-12-11,10,태일이,1965,98744\n",
            "\n",
            "2021-12-12,1,연애 빠진 로맨스,28464,529465\n",
            "2021-12-12,2,유체이탈자,27889,765618\n",
            "2021-12-12,3,엔칸토: 마법의 세계,26723,537772\n",
            "2021-12-12,4,돈 룩 업,12654,54374\n",
            "2021-12-12,5,듄,10878,1540276\n",
            "2021-12-12,6,고스트버스터즈 라이즈,5746,110306\n",
            "2021-12-12,7,몬스타엑스 : 더 드리밍,4340,23278\n",
            "2021-12-12,8,이터널스,3669,3045647\n",
            "2021-12-12,9,극장판 소드 아트 온라인 -프로그레시브- 별 없는 밤의 아리아,3219,16038\n",
            "2021-12-12,10,마이 뉴욕 다이어리,1358,9244\n",
            "\n",
            "2021-12-13,1,유체이탈자,10248,775866\n",
            "2021-12-13,2,연애 빠진 로맨스,9217,538682\n",
            "2021-12-13,3,엔칸토: 마법의 세계,5459,543231\n",
            "2021-12-13,4,돈 룩 업,4154,58528\n",
            "2021-12-13,5,킹메이커,4149,4149\n",
            "2021-12-13,6,듄,3256,1543532\n",
            "2021-12-13,7,몬스타엑스 : 더 드리밍,1669,24947\n",
            "2021-12-13,8,이터널스,1310,3046957\n",
            "2021-12-13,9,태일이,1263,101355\n",
            "2021-12-13,10,고스트버스터즈 라이즈,1120,111426\n",
            "\n",
            "2021-12-14,1,유체이탈자,8986,784852\n",
            "2021-12-14,2,연애 빠진 로맨스,8715,547397\n",
            "2021-12-14,3,엔칸토: 마법의 세계,6847,550078\n",
            "2021-12-14,4,듄,5814,1549346\n",
            "2021-12-14,5,돈 룩 업,5158,63686\n",
            "2021-12-14,6,킹메이커,2102,6251\n",
            "2021-12-14,7,태일이,1756,103111\n",
            "2021-12-14,8,몬스타엑스 : 더 드리밍,1725,26672\n",
            "2021-12-14,9,고스트버스터즈 라이즈,1705,113131\n",
            "2021-12-14,10,이터널스,1542,3048499\n",
            "\n",
            "2021-12-15,1,스파이더맨: 노 웨이 홈,634917,635963\n",
            "2021-12-15,2,연애 빠진 로맨스,3933,551330\n",
            "2021-12-15,3,엔칸토: 마법의 세계,3661,553739\n",
            "2021-12-15,4,유체이탈자,3240,788092\n",
            "2021-12-15,5,돈 룩 업,1044,64730\n",
            "2021-12-15,6,태일이,1037,104148\n",
            "2021-12-15,7,아멜리에,975,3291\n",
            "2021-12-15,8,BIAF2021 부천국제애니메이션페스티벌 기획상영展,539,557\n",
            "2021-12-15,9,노웨어 스페셜,498,573\n",
            "2021-12-15,10,극장판 소드 아트 온라인 -프로그레시브- 별 없는 밤의 아리아,411,18709\n",
            "\n",
            "2021-12-16,1,스파이더맨: 노 웨이 홈,391005,1026968\n",
            "2021-12-16,2,연애 빠진 로맨스,4157,555487\n",
            "2021-12-16,3,엔칸토: 마법의 세계,3622,557361\n",
            "2021-12-16,4,유체이탈자,3310,791402\n",
            "2021-12-16,5,뱅드림! 필름 라이브 세컨드 스테이지,2216,29239\n",
            "2021-12-16,6,극장판 소드 아트 온라인 -프로그레시브- 별 없는 밤의 아리아,1421,20130\n",
            "2021-12-16,7,돈 룩 업,936,65666\n",
            "2021-12-16,8,아멜리에,928,4219\n",
            "2021-12-16,9,태일이,910,105058\n",
            "2021-12-16,10,티탄,510,8026\n",
            "\n",
            "2021-12-17,1,스파이더맨: 노 웨이 홈,413759,1440727\n",
            "2021-12-17,2,연애 빠진 로맨스,5120,560607\n",
            "2021-12-17,3,엔칸토: 마법의 세계,4452,561813\n",
            "2021-12-17,4,유체이탈자,3668,795070\n",
            "2021-12-17,5,극장판 소드 아트 온라인 -프로그레시브- 별 없는 밤의 아리아,1069,21199\n",
            "2021-12-17,6,돈 룩 업,856,66522\n",
            "2021-12-17,7,학교 가는 길,843,34118\n",
            "2021-12-17,8,태일이,693,105751\n",
            "2021-12-17,9,아멜리에,672,4891\n",
            "2021-12-17,10,장르만 로맨스,572,514614\n",
            "\n",
            "2021-12-18,1,스파이더맨: 노 웨이 홈,646635,2087362\n",
            "2021-12-18,2,엔칸토: 마법의 세계,8993,570806\n",
            "2021-12-18,3,연애 빠진 로맨스,7187,567794\n",
            "2021-12-18,4,유체이탈자,3792,798862\n",
            "2021-12-18,5,극장판 소드 아트 온라인 -프로그레시브- 별 없는 밤의 아리아,1611,22810\n",
            "2021-12-18,6,라라와 크리스마스 요정,1114,1708\n",
            "2021-12-18,7,돈 룩 업,978,67500\n",
            "2021-12-18,8,아멜리에,699,5590\n",
            "2021-12-18,9,뱅드림! 필름 라이브 세컨드 스테이지,611,30402\n",
            "2021-12-18,10,프렌치 디스패치,566,83480\n",
            "\n",
            "2021-12-19,1,스파이더맨: 노 웨이 홈,682493,2769855\n",
            "2021-12-19,2,엔칸토: 마법의 세계,9540,580346\n",
            "2021-12-19,3,연애 빠진 로맨스,7402,575196\n",
            "2021-12-19,4,유체이탈자,4180,803042\n",
            "2021-12-19,5,극장판 소드 아트 온라인 -프로그레시브- 별 없는 밤의 아리아,1497,24307\n",
            "2021-12-19,6,라라와 크리스마스 요정,1193,2901\n",
            "2021-12-19,7,돈 룩 업,877,68377\n",
            "2021-12-19,8,아멜리에,766,6356\n",
            "2021-12-19,9,프렌치 디스패치,688,84168\n",
            "2021-12-19,10,끝없음에 관하여,467,1945\n",
            "\n",
            "2021-12-20,1,스파이더맨: 노 웨이 홈,216194,2986049\n",
            "2021-12-20,2,연애 빠진 로맨스,3396,578592\n",
            "2021-12-20,3,엔칸토: 마법의 세계,2872,583218\n",
            "2021-12-20,4,유체이탈자,1722,804764\n",
            "2021-12-20,5,태일이,645,106927\n",
            "2021-12-20,6,돈 룩 업,552,68929\n",
            "2021-12-20,7,프렌치 디스패치,515,84683\n",
            "2021-12-20,8,극장판 소드 아트 온라인 -프로그레시브- 별 없는 밤의 아리아,449,24756\n",
            "2021-12-20,9,매트릭스: 리저렉션,437,437\n",
            "2021-12-20,10,아멜리에,366,6722\n",
            "\n",
            "2021-12-21,1,스파이더맨: 노 웨이 홈,196238,3182287\n",
            "2021-12-21,2,연애 빠진 로맨스,3901,582493\n",
            "2021-12-21,3,엔칸토: 마법의 세계,3013,586231\n",
            "2021-12-21,4,유체이탈자,2060,806824\n",
            "2021-12-21,5,태일이,1012,107939\n",
            "2021-12-21,6,킹메이커,932,7599\n",
            "2021-12-21,7,돈 룩 업,862,69791\n",
            "2021-12-21,8,극장판 소드 아트 온라인 -프로그레시브- 별 없는 밤의 아리아,534,25290\n",
            "2021-12-21,9,프렌치 디스패치,519,85202\n",
            "2021-12-21,10,괴짜들의 로맨스,477,6866\n",
            "\n",
            "2021-12-22,1,스파이더맨: 노 웨이 홈,177422,3359709\n",
            "2021-12-22,2,킹스맨: 퍼스트 에이전트,66294,67024\n",
            "2021-12-22,3,매트릭스: 리저렉션,38303,38810\n",
            "2021-12-22,4,엔칸토: 마법의 세계,1495,587726\n",
            "2021-12-22,5,연애 빠진 로맨스,1485,583978\n",
            "2021-12-22,6,신데렐라 2: 마법에 걸린 왕자,1098,1402\n",
            "2021-12-22,7,태일이,865,108804\n",
            "2021-12-22,8,프렌치 디스패치,449,85651\n",
            "2021-12-22,9,아멜리에,437,7537\n",
            "2021-12-22,10,스파이 캣,425,5605\n",
            "\n",
            "2021-12-23,1,스파이더맨: 노 웨이 홈,166258,3525967\n",
            "2021-12-23,2,킹스맨: 퍼스트 에이전트,46469,113493\n",
            "2021-12-23,3,매트릭스: 리저렉션,20217,59027\n",
            "2021-12-23,4,드라이브 마이 카,2156,3505\n",
            "2021-12-23,5,연애 빠진 로맨스,1936,585914\n",
            "2021-12-23,6,엔칸토: 마법의 세계,1748,589474\n",
            "2021-12-23,7,아담스 패밀리 2,1570,110348\n",
            "2021-12-23,8,극장판 소드 아트 온라인 -프로그레시브- 별 없는 밤의 아리아,1309,26974\n",
            "2021-12-23,9,뱅드림! 필름 라이브 세컨드 스테이지,1172,32132\n",
            "2021-12-23,10,신데렐라 2: 마법에 걸린 왕자,1094,2496\n",
            "\n",
            "2021-12-24,1,스파이더맨: 노 웨이 홈,260250,3786217\n",
            "2021-12-24,2,킹스맨: 퍼스트 에이전트,64800,178293\n",
            "2021-12-24,3,매트릭스: 리저렉션,21924,80951\n",
            "2021-12-24,4,연애 빠진 로맨스,2429,588343\n",
            "2021-12-24,5,엔칸토: 마법의 세계,1928,591402\n",
            "2021-12-24,6,신데렐라 2: 마법에 걸린 왕자,1590,4086\n",
            "2021-12-24,7,드라이브 마이 카,1539,5044\n",
            "2021-12-24,8,아담스 패밀리 2,1000,111348\n",
            "2021-12-24,9,디어 에반 핸슨,939,105734\n",
            "2021-12-24,10,극장판 소드 아트 온라인 -프로그레시브- 별 없는 밤의 아리아,785,27759\n",
            "\n",
            "2021-12-25,1,스파이더맨: 노 웨이 홈,599128,4385345\n",
            "2021-12-25,2,킹스맨: 퍼스트 에이전트,130457,308750\n",
            "2021-12-25,3,매트릭스: 리저렉션,46073,127024\n",
            "2021-12-25,4,엔칸토: 마법의 세계,11477,602879\n",
            "2021-12-25,5,신데렐라 2: 마법에 걸린 왕자,10256,14342\n",
            "2021-12-25,6,연애 빠진 로맨스,5401,593744\n",
            "2021-12-25,7,드라이브 마이 카,1962,7006\n",
            "2021-12-25,8,극장판 소드 아트 온라인 -프로그레시브- 별 없는 밤의 아리아,1150,28909\n",
            "2021-12-25,9,유체이탈자,699,808522\n",
            "2021-12-25,10,라라와 크리스마스 요정,673,4423\n",
            "\n",
            "2021-12-26,1,스파이더맨: 노 웨이 홈,441182,4826527\n",
            "2021-12-26,2,킹스맨: 퍼스트 에이전트,96882,405632\n",
            "2021-12-26,3,매트릭스: 리저렉션,30102,157126\n",
            "2021-12-26,4,엔칸토: 마법의 세계,6912,609791\n",
            "2021-12-26,5,신데렐라 2: 마법에 걸린 왕자,6232,20574\n",
            "2021-12-26,6,연애 빠진 로맨스,2440,596184\n",
            "2021-12-26,7,드라이브 마이 카,2095,9101\n",
            "2021-12-26,8,극장판 소드 아트 온라인 -프로그레시브- 별 없는 밤의 아리아,942,29851\n",
            "2021-12-26,9,아멜리에,498,9572\n",
            "2021-12-26,10,뱅드림! 필름 라이브 세컨드 스테이지,386,33391\n",
            "\n",
            "2021-12-27,1,스파이더맨: 노 웨이 홈,139020,4965547\n",
            "2021-12-27,2,킹스맨: 퍼스트 에이전트,39276,444908\n",
            "2021-12-27,3,매트릭스: 리저렉션,8919,166045\n",
            "2021-12-27,4,해피 뉴 이어,3385,3557\n",
            "2021-12-27,5,신데렐라 2: 마법에 걸린 왕자,1985,22559\n",
            "2021-12-27,6,엔칸토: 마법의 세계,1704,611495\n",
            "2021-12-27,7,드라이브 마이 카,1633,10734\n",
            "2021-12-27,8,장르만 로맨스,1589,516699\n",
            "2021-12-27,9,연애 빠진 로맨스,1516,597700\n",
            "2021-12-27,10,원샷,1037,1037\n",
            "\n",
            "2021-12-28,1,스파이더맨: 노 웨이 홈,118094,5083641\n",
            "2021-12-28,2,킹스맨: 퍼스트 에이전트,38977,483885\n",
            "2021-12-28,3,매트릭스: 리저렉션,8391,174436\n",
            "2021-12-28,4,신데렐라 2: 마법에 걸린 왕자,2852,25411\n",
            "2021-12-28,5,엔칸토: 마법의 세계,2341,613836\n",
            "2021-12-28,6,연애 빠진 로맨스,1927,599627\n",
            "2021-12-28,7,드라이브 마이 카,1636,12370\n",
            "2021-12-28,8,장르만 로맨스,1291,517990\n",
            "2021-12-28,9,원샷,1033,2070\n",
            "2021-12-28,10,유체이탈자,673,809821\n",
            "\n",
            "2021-12-29,1,스파이더맨: 노 웨이 홈,147549,5231190\n",
            "2021-12-29,2,킹스맨: 퍼스트 에이전트,44426,528311\n",
            "2021-12-29,3,해피 뉴 이어,38356,41913\n",
            "2021-12-29,4,매트릭스: 리저렉션,5431,179867\n",
            "2021-12-29,5,경관의 피,3510,3899\n",
            "2021-12-29,6,램,2864,3155\n",
            "2021-12-29,7,드라이브 마이 카,1822,14192\n",
            "2021-12-29,8,엔칸토: 마법의 세계,1821,615657\n",
            "2021-12-29,9,원샷,1363,3433\n",
            "2021-12-29,10,연애 빠진 로맨스,1225,600852\n",
            "\n",
            "2021-12-30,1,스파이더맨: 노 웨이 홈,137450,5368640\n",
            "2021-12-30,2,킹스맨: 퍼스트 에이전트,39532,567843\n",
            "2021-12-30,3,해피 뉴 이어,30593,72506\n",
            "2021-12-30,4,매트릭스: 리저렉션,4944,184811\n",
            "2021-12-30,5,램,2164,5319\n",
            "2021-12-30,6,드라이브 마이 카,2029,16221\n",
            "2021-12-30,7,엔칸토: 마법의 세계,1987,617644\n",
            "2021-12-30,8,원샷,1449,4882\n",
            "2021-12-30,9,신데렐라 2: 마법에 걸린 왕자,1395,27930\n",
            "2021-12-30,10,경관의 피,1279,5178\n",
            "\n",
            "2021-12-31,1,스파이더맨: 노 웨이 홈,191119,5559759\n",
            "2021-12-31,2,킹스맨: 퍼스트 에이전트,54298,622141\n",
            "2021-12-31,3,해피 뉴 이어,41540,114046\n",
            "2021-12-31,4,매트릭스: 리저렉션,6458,191269\n",
            "2021-12-31,5,엔칸토: 마법의 세계,2448,620092\n",
            "2021-12-31,6,드라이브 마이 카,2123,18344\n",
            "2021-12-31,7,램,2011,7330\n",
            "2021-12-31,8,신데렐라 2: 마법에 걸린 왕자,1922,29852\n",
            "2021-12-31,9,원샷,1548,6430\n",
            "2021-12-31,10,연애 빠진 로맨스,1285,603013\n",
            "\n"
          ]
        }
      ]
    },
    {
      "cell_type": "markdown",
      "source": [
        "# 파일(File)\n",
        "## **파일 생성**\n",
        "+ 파일 객체 = open(파일 이름, 파일 열기 모드, encoding='UTF-8’)\n",
        " - 한글이 포함된 파일 입력시 UnicodeDecodeError 에러가 발생하면 encoding 값을 'cp949' 사용\n",
        "\n",
        "+ 파일 열기 모드\n",
        " - r\t읽기모드 - 파일을 읽기만 할 때 사용\n",
        " - w\t쓰기모드 - 파일에 내용을 쓸 때 사용\n",
        " - a\t추가모드 - 파일의 마지막에 새로운 내용을 추가 시킬 때 사용\n",
        "\n",
        "\n",
        "## **파일입력 메소드**\n",
        "+ 파일객체.readline(): 파일의 첫 번째 줄을 읽어 출력하는 경우\n",
        "+ 파일객체.readlines(): 파일의 모든 라인을 읽어서 각각의 줄을 요소로 갖는 리스트로 리턴\n",
        "+ 파일객체.read(): 파일의 내용 전체를 문자열로 리턴\n",
        "\n",
        "\n",
        "## **파일출력 메소드**\n",
        "+ 파일객체.write()\n",
        "\n",
        "\n",
        "## with…as \n",
        "+ **파일을 open한 후 with…as 구문이 끝나면 자동으로 close**\n",
        "```\n",
        "with open(파일 경로, 모드) as 파일 객체:\n",
        "```"
      ],
      "metadata": {
        "id": "BecSHsopTsH9"
      }
    },
    {
      "cell_type": "code",
      "source": [
        "import pandas as pd "
      ],
      "metadata": {
        "id": "PBJ7BuDKWQej"
      },
      "execution_count": 9,
      "outputs": []
    },
    {
      "cell_type": "code",
      "source": [
        "#자료 불러오기 \n",
        "df = pd.read_csv('/content/drive/MyDrive/datathon/class/data/mv.csv', engine='python', encoding='utf-8')\n",
        "df.head()"
      ],
      "metadata": {
        "colab": {
          "base_uri": "https://localhost:8080/",
          "height": 206
        },
        "id": "l65xPqOdWhyi",
        "outputId": "9e8dcbe8-cd19-42d6-eae2-52cd97c2dbf6"
      },
      "execution_count": 2,
      "outputs": [
        {
          "output_type": "execute_result",
          "data": {
            "text/html": [
              "\n",
              "  <div id=\"df-3b4193c1-c26a-4da5-87b3-dffe3940deff\">\n",
              "    <div class=\"colab-df-container\">\n",
              "      <div>\n",
              "<style scoped>\n",
              "    .dataframe tbody tr th:only-of-type {\n",
              "        vertical-align: middle;\n",
              "    }\n",
              "\n",
              "    .dataframe tbody tr th {\n",
              "        vertical-align: top;\n",
              "    }\n",
              "\n",
              "    .dataframe thead th {\n",
              "        text-align: right;\n",
              "    }\n",
              "</style>\n",
              "<table border=\"1\" class=\"dataframe\">\n",
              "  <thead>\n",
              "    <tr style=\"text-align: right;\">\n",
              "      <th></th>\n",
              "      <th>일자</th>\n",
              "      <th>순위</th>\n",
              "      <th>영화명</th>\n",
              "      <th>일관객수</th>\n",
              "      <th>누적관객수</th>\n",
              "    </tr>\n",
              "  </thead>\n",
              "  <tbody>\n",
              "    <tr>\n",
              "      <th>0</th>\n",
              "      <td>2021-12-01</td>\n",
              "      <td>1</td>\n",
              "      <td>유체이탈자</td>\n",
              "      <td>28158</td>\n",
              "      <td>468281</td>\n",
              "    </tr>\n",
              "    <tr>\n",
              "      <th>1</th>\n",
              "      <td>2021-12-01</td>\n",
              "      <td>2</td>\n",
              "      <td>연애 빠진 로맨스</td>\n",
              "      <td>20372</td>\n",
              "      <td>275782</td>\n",
              "    </tr>\n",
              "    <tr>\n",
              "      <th>2</th>\n",
              "      <td>2021-12-01</td>\n",
              "      <td>3</td>\n",
              "      <td>고스트버스터즈 라이즈</td>\n",
              "      <td>20063</td>\n",
              "      <td>20608</td>\n",
              "    </tr>\n",
              "    <tr>\n",
              "      <th>3</th>\n",
              "      <td>2021-12-01</td>\n",
              "      <td>4</td>\n",
              "      <td>엔칸토: 마법의 세계</td>\n",
              "      <td>14353</td>\n",
              "      <td>316689</td>\n",
              "    </tr>\n",
              "    <tr>\n",
              "      <th>4</th>\n",
              "      <td>2021-12-01</td>\n",
              "      <td>5</td>\n",
              "      <td>라스트 나잇 인 소호</td>\n",
              "      <td>10291</td>\n",
              "      <td>10655</td>\n",
              "    </tr>\n",
              "  </tbody>\n",
              "</table>\n",
              "</div>\n",
              "      <button class=\"colab-df-convert\" onclick=\"convertToInteractive('df-3b4193c1-c26a-4da5-87b3-dffe3940deff')\"\n",
              "              title=\"Convert this dataframe to an interactive table.\"\n",
              "              style=\"display:none;\">\n",
              "        \n",
              "  <svg xmlns=\"http://www.w3.org/2000/svg\" height=\"24px\"viewBox=\"0 0 24 24\"\n",
              "       width=\"24px\">\n",
              "    <path d=\"M0 0h24v24H0V0z\" fill=\"none\"/>\n",
              "    <path d=\"M18.56 5.44l.94 2.06.94-2.06 2.06-.94-2.06-.94-.94-2.06-.94 2.06-2.06.94zm-11 1L8.5 8.5l.94-2.06 2.06-.94-2.06-.94L8.5 2.5l-.94 2.06-2.06.94zm10 10l.94 2.06.94-2.06 2.06-.94-2.06-.94-.94-2.06-.94 2.06-2.06.94z\"/><path d=\"M17.41 7.96l-1.37-1.37c-.4-.4-.92-.59-1.43-.59-.52 0-1.04.2-1.43.59L10.3 9.45l-7.72 7.72c-.78.78-.78 2.05 0 2.83L4 21.41c.39.39.9.59 1.41.59.51 0 1.02-.2 1.41-.59l7.78-7.78 2.81-2.81c.8-.78.8-2.07 0-2.86zM5.41 20L4 18.59l7.72-7.72 1.47 1.35L5.41 20z\"/>\n",
              "  </svg>\n",
              "      </button>\n",
              "      \n",
              "  <style>\n",
              "    .colab-df-container {\n",
              "      display:flex;\n",
              "      flex-wrap:wrap;\n",
              "      gap: 12px;\n",
              "    }\n",
              "\n",
              "    .colab-df-convert {\n",
              "      background-color: #E8F0FE;\n",
              "      border: none;\n",
              "      border-radius: 50%;\n",
              "      cursor: pointer;\n",
              "      display: none;\n",
              "      fill: #1967D2;\n",
              "      height: 32px;\n",
              "      padding: 0 0 0 0;\n",
              "      width: 32px;\n",
              "    }\n",
              "\n",
              "    .colab-df-convert:hover {\n",
              "      background-color: #E2EBFA;\n",
              "      box-shadow: 0px 1px 2px rgba(60, 64, 67, 0.3), 0px 1px 3px 1px rgba(60, 64, 67, 0.15);\n",
              "      fill: #174EA6;\n",
              "    }\n",
              "\n",
              "    [theme=dark] .colab-df-convert {\n",
              "      background-color: #3B4455;\n",
              "      fill: #D2E3FC;\n",
              "    }\n",
              "\n",
              "    [theme=dark] .colab-df-convert:hover {\n",
              "      background-color: #434B5C;\n",
              "      box-shadow: 0px 1px 3px 1px rgba(0, 0, 0, 0.15);\n",
              "      filter: drop-shadow(0px 1px 2px rgba(0, 0, 0, 0.3));\n",
              "      fill: #FFFFFF;\n",
              "    }\n",
              "  </style>\n",
              "\n",
              "      <script>\n",
              "        const buttonEl =\n",
              "          document.querySelector('#df-3b4193c1-c26a-4da5-87b3-dffe3940deff button.colab-df-convert');\n",
              "        buttonEl.style.display =\n",
              "          google.colab.kernel.accessAllowed ? 'block' : 'none';\n",
              "\n",
              "        async function convertToInteractive(key) {\n",
              "          const element = document.querySelector('#df-3b4193c1-c26a-4da5-87b3-dffe3940deff');\n",
              "          const dataTable =\n",
              "            await google.colab.kernel.invokeFunction('convertToInteractive',\n",
              "                                                     [key], {});\n",
              "          if (!dataTable) return;\n",
              "\n",
              "          const docLinkHtml = 'Like what you see? Visit the ' +\n",
              "            '<a target=\"_blank\" href=https://colab.research.google.com/notebooks/data_table.ipynb>data table notebook</a>'\n",
              "            + ' to learn more about interactive tables.';\n",
              "          element.innerHTML = '';\n",
              "          dataTable['output_type'] = 'display_data';\n",
              "          await google.colab.output.renderOutput(dataTable, element);\n",
              "          const docLink = document.createElement('div');\n",
              "          docLink.innerHTML = docLinkHtml;\n",
              "          element.appendChild(docLink);\n",
              "        }\n",
              "      </script>\n",
              "    </div>\n",
              "  </div>\n",
              "  "
            ],
            "text/plain": [
              "           일자  순위          영화명   일관객수   누적관객수\n",
              "0  2021-12-01   1        유체이탈자  28158  468281\n",
              "1  2021-12-01   2    연애 빠진 로맨스  20372  275782\n",
              "2  2021-12-01   3  고스트버스터즈 라이즈  20063   20608\n",
              "3  2021-12-01   4  엔칸토: 마법의 세계  14353  316689\n",
              "4  2021-12-01   5  라스트 나잇 인 소호  10291   10655"
            ]
          },
          "metadata": {},
          "execution_count": 2
        }
      ]
    },
    {
      "cell_type": "code",
      "source": [
        "df['일관객수'].max()\n",
        "df[df['일관객수'] == df['일관객수'].max()]"
      ],
      "metadata": {
        "colab": {
          "base_uri": "https://localhost:8080/",
          "height": 81
        },
        "id": "bzCxHLsb_dlE",
        "outputId": "ab49b412-ffb5-467f-8096-f50cad7ba8f2"
      },
      "execution_count": 3,
      "outputs": [
        {
          "output_type": "execute_result",
          "data": {
            "text/html": [
              "\n",
              "  <div id=\"df-dc073eae-524f-43d4-ba2a-902f8fbc5ecd\">\n",
              "    <div class=\"colab-df-container\">\n",
              "      <div>\n",
              "<style scoped>\n",
              "    .dataframe tbody tr th:only-of-type {\n",
              "        vertical-align: middle;\n",
              "    }\n",
              "\n",
              "    .dataframe tbody tr th {\n",
              "        vertical-align: top;\n",
              "    }\n",
              "\n",
              "    .dataframe thead th {\n",
              "        text-align: right;\n",
              "    }\n",
              "</style>\n",
              "<table border=\"1\" class=\"dataframe\">\n",
              "  <thead>\n",
              "    <tr style=\"text-align: right;\">\n",
              "      <th></th>\n",
              "      <th>일자</th>\n",
              "      <th>순위</th>\n",
              "      <th>영화명</th>\n",
              "      <th>일관객수</th>\n",
              "      <th>누적관객수</th>\n",
              "    </tr>\n",
              "  </thead>\n",
              "  <tbody>\n",
              "    <tr>\n",
              "      <th>180</th>\n",
              "      <td>2021-12-19</td>\n",
              "      <td>1</td>\n",
              "      <td>스파이더맨: 노 웨이 홈</td>\n",
              "      <td>682493</td>\n",
              "      <td>2769855</td>\n",
              "    </tr>\n",
              "  </tbody>\n",
              "</table>\n",
              "</div>\n",
              "      <button class=\"colab-df-convert\" onclick=\"convertToInteractive('df-dc073eae-524f-43d4-ba2a-902f8fbc5ecd')\"\n",
              "              title=\"Convert this dataframe to an interactive table.\"\n",
              "              style=\"display:none;\">\n",
              "        \n",
              "  <svg xmlns=\"http://www.w3.org/2000/svg\" height=\"24px\"viewBox=\"0 0 24 24\"\n",
              "       width=\"24px\">\n",
              "    <path d=\"M0 0h24v24H0V0z\" fill=\"none\"/>\n",
              "    <path d=\"M18.56 5.44l.94 2.06.94-2.06 2.06-.94-2.06-.94-.94-2.06-.94 2.06-2.06.94zm-11 1L8.5 8.5l.94-2.06 2.06-.94-2.06-.94L8.5 2.5l-.94 2.06-2.06.94zm10 10l.94 2.06.94-2.06 2.06-.94-2.06-.94-.94-2.06-.94 2.06-2.06.94z\"/><path d=\"M17.41 7.96l-1.37-1.37c-.4-.4-.92-.59-1.43-.59-.52 0-1.04.2-1.43.59L10.3 9.45l-7.72 7.72c-.78.78-.78 2.05 0 2.83L4 21.41c.39.39.9.59 1.41.59.51 0 1.02-.2 1.41-.59l7.78-7.78 2.81-2.81c.8-.78.8-2.07 0-2.86zM5.41 20L4 18.59l7.72-7.72 1.47 1.35L5.41 20z\"/>\n",
              "  </svg>\n",
              "      </button>\n",
              "      \n",
              "  <style>\n",
              "    .colab-df-container {\n",
              "      display:flex;\n",
              "      flex-wrap:wrap;\n",
              "      gap: 12px;\n",
              "    }\n",
              "\n",
              "    .colab-df-convert {\n",
              "      background-color: #E8F0FE;\n",
              "      border: none;\n",
              "      border-radius: 50%;\n",
              "      cursor: pointer;\n",
              "      display: none;\n",
              "      fill: #1967D2;\n",
              "      height: 32px;\n",
              "      padding: 0 0 0 0;\n",
              "      width: 32px;\n",
              "    }\n",
              "\n",
              "    .colab-df-convert:hover {\n",
              "      background-color: #E2EBFA;\n",
              "      box-shadow: 0px 1px 2px rgba(60, 64, 67, 0.3), 0px 1px 3px 1px rgba(60, 64, 67, 0.15);\n",
              "      fill: #174EA6;\n",
              "    }\n",
              "\n",
              "    [theme=dark] .colab-df-convert {\n",
              "      background-color: #3B4455;\n",
              "      fill: #D2E3FC;\n",
              "    }\n",
              "\n",
              "    [theme=dark] .colab-df-convert:hover {\n",
              "      background-color: #434B5C;\n",
              "      box-shadow: 0px 1px 3px 1px rgba(0, 0, 0, 0.15);\n",
              "      filter: drop-shadow(0px 1px 2px rgba(0, 0, 0, 0.3));\n",
              "      fill: #FFFFFF;\n",
              "    }\n",
              "  </style>\n",
              "\n",
              "      <script>\n",
              "        const buttonEl =\n",
              "          document.querySelector('#df-dc073eae-524f-43d4-ba2a-902f8fbc5ecd button.colab-df-convert');\n",
              "        buttonEl.style.display =\n",
              "          google.colab.kernel.accessAllowed ? 'block' : 'none';\n",
              "\n",
              "        async function convertToInteractive(key) {\n",
              "          const element = document.querySelector('#df-dc073eae-524f-43d4-ba2a-902f8fbc5ecd');\n",
              "          const dataTable =\n",
              "            await google.colab.kernel.invokeFunction('convertToInteractive',\n",
              "                                                     [key], {});\n",
              "          if (!dataTable) return;\n",
              "\n",
              "          const docLinkHtml = 'Like what you see? Visit the ' +\n",
              "            '<a target=\"_blank\" href=https://colab.research.google.com/notebooks/data_table.ipynb>data table notebook</a>'\n",
              "            + ' to learn more about interactive tables.';\n",
              "          element.innerHTML = '';\n",
              "          dataTable['output_type'] = 'display_data';\n",
              "          await google.colab.output.renderOutput(dataTable, element);\n",
              "          const docLink = document.createElement('div');\n",
              "          docLink.innerHTML = docLinkHtml;\n",
              "          element.appendChild(docLink);\n",
              "        }\n",
              "      </script>\n",
              "    </div>\n",
              "  </div>\n",
              "  "
            ],
            "text/plain": [
              "             일자  순위            영화명    일관객수    누적관객수\n",
              "180  2021-12-19   1  스파이더맨: 노 웨이 홈  682493  2769855"
            ]
          },
          "metadata": {},
          "execution_count": 3
        }
      ]
    },
    {
      "cell_type": "code",
      "source": [
        "df['일자'] = pd.to_datetime(df['일자'])\n",
        "df.info()\n",
        "\n",
        "df['요일'] = df['일자'].dt.weekday\n",
        "print(df['요일'])"
      ],
      "metadata": {
        "colab": {
          "base_uri": "https://localhost:8080/"
        },
        "id": "8Er6EWr9AM6i",
        "outputId": "f7012e18-9344-4329-e324-298e935df922"
      },
      "execution_count": 6,
      "outputs": [
        {
          "output_type": "stream",
          "name": "stdout",
          "text": [
            "<class 'pandas.core.frame.DataFrame'>\n",
            "RangeIndex: 310 entries, 0 to 309\n",
            "Data columns (total 5 columns):\n",
            " #   Column  Non-Null Count  Dtype         \n",
            "---  ------  --------------  -----         \n",
            " 0   일자      310 non-null    datetime64[ns]\n",
            " 1   순위      310 non-null    int64         \n",
            " 2   영화명     310 non-null    object        \n",
            " 3   일관객수    310 non-null    int64         \n",
            " 4   누적관객수   310 non-null    int64         \n",
            "dtypes: datetime64[ns](1), int64(3), object(1)\n",
            "memory usage: 12.2+ KB\n",
            "0      2\n",
            "1      2\n",
            "2      2\n",
            "3      2\n",
            "4      2\n",
            "      ..\n",
            "305    4\n",
            "306    4\n",
            "307    4\n",
            "308    4\n",
            "309    4\n",
            "Name: 요일, Length: 310, dtype: int64\n"
          ]
        }
      ]
    },
    {
      "cell_type": "code",
      "source": [
        "import seaborn as sns"
      ],
      "metadata": {
        "id": "Z2dDjHViXvZj"
      },
      "execution_count": 8,
      "outputs": []
    },
    {
      "cell_type": "code",
      "source": [
        "plt.figure(figsize=(10,5))\n",
        "sns.barplot(x='요일', y='일관객수', data=df)\n",
        "plt.xticks(range(7), labels=['월', '화', '수', '목', '금', '토', '일'])\n",
        "plt.show()"
      ],
      "metadata": {
        "colab": {
          "base_uri": "https://localhost:8080/",
          "height": 334
        },
        "id": "sKhAW8gYBnNa",
        "outputId": "ea7e25fe-865c-4c5e-8013-d5704f3bda20"
      },
      "execution_count": 11,
      "outputs": [
        {
          "output_type": "display_data",
          "data": {
            "image/png": "[encoded data removed]",
            "text/plain": [
              "<Figure size 720x360 with 1 Axes>"
            ]
          },
          "metadata": {
            "needs_background": "light"
          }
        }
      ]
    },
    {
      "cell_type": "code",
      "source": [
        "df.groupby('영화명').mean()[['일관객수']].sort_values('일관객수', ascending=False).head()"
      ],
      "metadata": {
        "colab": {
          "base_uri": "https://localhost:8080/",
          "height": 238
        },
        "id": "s1WBDESRIPsr",
        "outputId": "0077acbd-b46d-43ae-be83-095ec73c6931"
      },
      "execution_count": 12,
      "outputs": [
        {
          "output_type": "execute_result",
          "data": {
            "text/html": [
              "\n",
              "  <div id=\"df-94c1fa91-2cda-4786-b7ca-b68b0ed17368\">\n",
              "    <div class=\"colab-df-container\">\n",
              "      <div>\n",
              "<style scoped>\n",
              "    .dataframe tbody tr th:only-of-type {\n",
              "        vertical-align: middle;\n",
              "    }\n",
              "\n",
              "    .dataframe tbody tr th {\n",
              "        vertical-align: top;\n",
              "    }\n",
              "\n",
              "    .dataframe thead th {\n",
              "        text-align: right;\n",
              "    }\n",
              "</style>\n",
              "<table border=\"1\" class=\"dataframe\">\n",
              "  <thead>\n",
              "    <tr style=\"text-align: right;\">\n",
              "      <th></th>\n",
              "      <th>일관객수</th>\n",
              "    </tr>\n",
              "    <tr>\n",
              "      <th>영화명</th>\n",
              "      <th></th>\n",
              "    </tr>\n",
              "  </thead>\n",
              "  <tbody>\n",
              "    <tr>\n",
              "      <th>스파이더맨: 노 웨이 홈</th>\n",
              "      <td>326983.117647</td>\n",
              "    </tr>\n",
              "    <tr>\n",
              "      <th>킹스맨: 퍼스트 에이전트</th>\n",
              "      <td>62141.100000</td>\n",
              "    </tr>\n",
              "    <tr>\n",
              "      <th>해피 뉴 이어</th>\n",
              "      <td>28468.500000</td>\n",
              "    </tr>\n",
              "    <tr>\n",
              "      <th>매트릭스: 리저렉션</th>\n",
              "      <td>17381.727273</td>\n",
              "    </tr>\n",
              "    <tr>\n",
              "      <th>유체이탈자</th>\n",
              "      <td>16003.173913</td>\n",
              "    </tr>\n",
              "  </tbody>\n",
              "</table>\n",
              "</div>\n",
              "      <button class=\"colab-df-convert\" onclick=\"convertToInteractive('df-94c1fa91-2cda-4786-b7ca-b68b0ed17368')\"\n",
              "              title=\"Convert this dataframe to an interactive table.\"\n",
              "              style=\"display:none;\">\n",
              "        \n",
              "  <svg xmlns=\"http://www.w3.org/2000/svg\" height=\"24px\"viewBox=\"0 0 24 24\"\n",
              "       width=\"24px\">\n",
              "    <path d=\"M0 0h24v24H0V0z\" fill=\"none\"/>\n",
              "    <path d=\"M18.56 5.44l.94 2.06.94-2.06 2.06-.94-2.06-.94-.94-2.06-.94 2.06-2.06.94zm-11 1L8.5 8.5l.94-2.06 2.06-.94-2.06-.94L8.5 2.5l-.94 2.06-2.06.94zm10 10l.94 2.06.94-2.06 2.06-.94-2.06-.94-.94-2.06-.94 2.06-2.06.94z\"/><path d=\"M17.41 7.96l-1.37-1.37c-.4-.4-.92-.59-1.43-.59-.52 0-1.04.2-1.43.59L10.3 9.45l-7.72 7.72c-.78.78-.78 2.05 0 2.83L4 21.41c.39.39.9.59 1.41.59.51 0 1.02-.2 1.41-.59l7.78-7.78 2.81-2.81c.8-.78.8-2.07 0-2.86zM5.41 20L4 18.59l7.72-7.72 1.47 1.35L5.41 20z\"/>\n",
              "  </svg>\n",
              "      </button>\n",
              "      \n",
              "  <style>\n",
              "    .colab-df-container {\n",
              "      display:flex;\n",
              "      flex-wrap:wrap;\n",
              "      gap: 12px;\n",
              "    }\n",
              "\n",
              "    .colab-df-convert {\n",
              "      background-color: #E8F0FE;\n",
              "      border: none;\n",
              "      border-radius: 50%;\n",
              "      cursor: pointer;\n",
              "      display: none;\n",
              "      fill: #1967D2;\n",
              "      height: 32px;\n",
              "      padding: 0 0 0 0;\n",
              "      width: 32px;\n",
              "    }\n",
              "\n",
              "    .colab-df-convert:hover {\n",
              "      background-color: #E2EBFA;\n",
              "      box-shadow: 0px 1px 2px rgba(60, 64, 67, 0.3), 0px 1px 3px 1px rgba(60, 64, 67, 0.15);\n",
              "      fill: #174EA6;\n",
              "    }\n",
              "\n",
              "    [theme=dark] .colab-df-convert {\n",
              "      background-color: #3B4455;\n",
              "      fill: #D2E3FC;\n",
              "    }\n",
              "\n",
              "    [theme=dark] .colab-df-convert:hover {\n",
              "      background-color: #434B5C;\n",
              "      box-shadow: 0px 1px 3px 1px rgba(0, 0, 0, 0.15);\n",
              "      filter: drop-shadow(0px 1px 2px rgba(0, 0, 0, 0.3));\n",
              "      fill: #FFFFFF;\n",
              "    }\n",
              "  </style>\n",
              "\n",
              "      <script>\n",
              "        const buttonEl =\n",
              "          document.querySelector('#df-94c1fa91-2cda-4786-b7ca-b68b0ed17368 button.colab-df-convert');\n",
              "        buttonEl.style.display =\n",
              "          google.colab.kernel.accessAllowed ? 'block' : 'none';\n",
              "\n",
              "        async function convertToInteractive(key) {\n",
              "          const element = document.querySelector('#df-94c1fa91-2cda-4786-b7ca-b68b0ed17368');\n",
              "          const dataTable =\n",
              "            await google.colab.kernel.invokeFunction('convertToInteractive',\n",
              "                                                     [key], {});\n",
              "          if (!dataTable) return;\n",
              "\n",
              "          const docLinkHtml = 'Like what you see? Visit the ' +\n",
              "            '<a target=\"_blank\" href=https://colab.research.google.com/notebooks/data_table.ipynb>data table notebook</a>'\n",
              "            + ' to learn more about interactive tables.';\n",
              "          element.innerHTML = '';\n",
              "          dataTable['output_type'] = 'display_data';\n",
              "          await google.colab.output.renderOutput(dataTable, element);\n",
              "          const docLink = document.createElement('div');\n",
              "          docLink.innerHTML = docLinkHtml;\n",
              "          element.appendChild(docLink);\n",
              "        }\n",
              "      </script>\n",
              "    </div>\n",
              "  </div>\n",
              "  "
            ],
            "text/plain": [
              "                        일관객수\n",
              "영화명                         \n",
              "스파이더맨: 노 웨이 홈  326983.117647\n",
              "킹스맨: 퍼스트 에이전트   62141.100000\n",
              "해피 뉴 이어         28468.500000\n",
              "매트릭스: 리저렉션      17381.727273\n",
              "유체이탈자           16003.173913"
            ]
          },
          "metadata": {},
          "execution_count": 12
        }
      ]
    },
    {
      "cell_type": "code",
      "source": [
        "df.groupby('요일').mean()[['일관객수']]"
      ],
      "metadata": {
        "colab": {
          "base_uri": "https://localhost:8080/",
          "height": 300
        },
        "id": "PCTV9bJVIhv9",
        "outputId": "cc7a22d7-9496-4fd1-a54c-983da83ac033"
      },
      "execution_count": 14,
      "outputs": [
        {
          "output_type": "execute_result",
          "data": {
            "text/html": [
              "\n",
              "  <div id=\"df-e22621b3-522f-417c-883f-d13559a220f3\">\n",
              "    <div class=\"colab-df-container\">\n",
              "      <div>\n",
              "<style scoped>\n",
              "    .dataframe tbody tr th:only-of-type {\n",
              "        vertical-align: middle;\n",
              "    }\n",
              "\n",
              "    .dataframe tbody tr th {\n",
              "        vertical-align: top;\n",
              "    }\n",
              "\n",
              "    .dataframe thead th {\n",
              "        text-align: right;\n",
              "    }\n",
              "</style>\n",
              "<table border=\"1\" class=\"dataframe\">\n",
              "  <thead>\n",
              "    <tr style=\"text-align: right;\">\n",
              "      <th></th>\n",
              "      <th>일관객수</th>\n",
              "    </tr>\n",
              "    <tr>\n",
              "      <th>요일</th>\n",
              "      <th></th>\n",
              "    </tr>\n",
              "  </thead>\n",
              "  <tbody>\n",
              "    <tr>\n",
              "      <th>0</th>\n",
              "      <td>13197.975</td>\n",
              "    </tr>\n",
              "    <tr>\n",
              "      <th>1</th>\n",
              "      <td>12192.625</td>\n",
              "    </tr>\n",
              "    <tr>\n",
              "      <th>2</th>\n",
              "      <td>27603.040</td>\n",
              "    </tr>\n",
              "    <tr>\n",
              "      <th>3</th>\n",
              "      <td>20873.020</td>\n",
              "    </tr>\n",
              "    <tr>\n",
              "      <th>4</th>\n",
              "      <td>25464.340</td>\n",
              "    </tr>\n",
              "    <tr>\n",
              "      <th>5</th>\n",
              "      <td>45586.475</td>\n",
              "    </tr>\n",
              "    <tr>\n",
              "      <th>6</th>\n",
              "      <td>40345.925</td>\n",
              "    </tr>\n",
              "  </tbody>\n",
              "</table>\n",
              "</div>\n",
              "      <button class=\"colab-df-convert\" onclick=\"convertToInteractive('df-e22621b3-522f-417c-883f-d13559a220f3')\"\n",
              "              title=\"Convert this dataframe to an interactive table.\"\n",
              "              style=\"display:none;\">\n",
              "        \n",
              "  <svg xmlns=\"http://www.w3.org/2000/svg\" height=\"24px\"viewBox=\"0 0 24 24\"\n",
              "       width=\"24px\">\n",
              "    <path d=\"M0 0h24v24H0V0z\" fill=\"none\"/>\n",
              "    <path d=\"M18.56 5.44l.94 2.06.94-2.06 2.06-.94-2.06-.94-.94-2.06-.94 2.06-2.06.94zm-11 1L8.5 8.5l.94-2.06 2.06-.94-2.06-.94L8.5 2.5l-.94 2.06-2.06.94zm10 10l.94 2.06.94-2.06 2.06-.94-2.06-.94-.94-2.06-.94 2.06-2.06.94z\"/><path d=\"M17.41 7.96l-1.37-1.37c-.4-.4-.92-.59-1.43-.59-.52 0-1.04.2-1.43.59L10.3 9.45l-7.72 7.72c-.78.78-.78 2.05 0 2.83L4 21.41c.39.39.9.59 1.41.59.51 0 1.02-.2 1.41-.59l7.78-7.78 2.81-2.81c.8-.78.8-2.07 0-2.86zM5.41 20L4 18.59l7.72-7.72 1.47 1.35L5.41 20z\"/>\n",
              "  </svg>\n",
              "      </button>\n",
              "      \n",
              "  <style>\n",
              "    .colab-df-container {\n",
              "      display:flex;\n",
              "      flex-wrap:wrap;\n",
              "      gap: 12px;\n",
              "    }\n",
              "\n",
              "    .colab-df-convert {\n",
              "      background-color: #E8F0FE;\n",
              "      border: none;\n",
              "      border-radius: 50%;\n",
              "      cursor: pointer;\n",
              "      display: none;\n",
              "      fill: #1967D2;\n",
              "      height: 32px;\n",
              "      padding: 0 0 0 0;\n",
              "      width: 32px;\n",
              "    }\n",
              "\n",
              "    .colab-df-convert:hover {\n",
              "      background-color: #E2EBFA;\n",
              "      box-shadow: 0px 1px 2px rgba(60, 64, 67, 0.3), 0px 1px 3px 1px rgba(60, 64, 67, 0.15);\n",
              "      fill: #174EA6;\n",
              "    }\n",
              "\n",
              "    [theme=dark] .colab-df-convert {\n",
              "      background-color: #3B4455;\n",
              "      fill: #D2E3FC;\n",
              "    }\n",
              "\n",
              "    [theme=dark] .colab-df-convert:hover {\n",
              "      background-color: #434B5C;\n",
              "      box-shadow: 0px 1px 3px 1px rgba(0, 0, 0, 0.15);\n",
              "      filter: drop-shadow(0px 1px 2px rgba(0, 0, 0, 0.3));\n",
              "      fill: #FFFFFF;\n",
              "    }\n",
              "  </style>\n",
              "\n",
              "      <script>\n",
              "        const buttonEl =\n",
              "          document.querySelector('#df-e22621b3-522f-417c-883f-d13559a220f3 button.colab-df-convert');\n",
              "        buttonEl.style.display =\n",
              "          google.colab.kernel.accessAllowed ? 'block' : 'none';\n",
              "\n",
              "        async function convertToInteractive(key) {\n",
              "          const element = document.querySelector('#df-e22621b3-522f-417c-883f-d13559a220f3');\n",
              "          const dataTable =\n",
              "            await google.colab.kernel.invokeFunction('convertToInteractive',\n",
              "                                                     [key], {});\n",
              "          if (!dataTable) return;\n",
              "\n",
              "          const docLinkHtml = 'Like what you see? Visit the ' +\n",
              "            '<a target=\"_blank\" href=https://colab.research.google.com/notebooks/data_table.ipynb>data table notebook</a>'\n",
              "            + ' to learn more about interactive tables.';\n",
              "          element.innerHTML = '';\n",
              "          dataTable['output_type'] = 'display_data';\n",
              "          await google.colab.output.renderOutput(dataTable, element);\n",
              "          const docLink = document.createElement('div');\n",
              "          docLink.innerHTML = docLinkHtml;\n",
              "          element.appendChild(docLink);\n",
              "        }\n",
              "      </script>\n",
              "    </div>\n",
              "  </div>\n",
              "  "
            ],
            "text/plain": [
              "         일관객수\n",
              "요일           \n",
              "0   13197.975\n",
              "1   12192.625\n",
              "2   27603.040\n",
              "3   20873.020\n",
              "4   25464.340\n",
              "5   45586.475\n",
              "6   40345.925"
            ]
          },
          "metadata": {},
          "execution_count": 14
        }
      ]
    }
  ]
}