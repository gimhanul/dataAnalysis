{
  "nbformat": 4,
  "nbformat_minor": 0,
  "metadata": {
    "colab": {
      "name": "04_codelab1_json.ipynb",
      "provenance": [],
      "collapsed_sections": [],
      "include_colab_link": true
    },
    "kernelspec": {
      "name": "python3",
      "display_name": "Python 3"
    },
    "language_info": {
      "name": "python"
    }
  },
  "cells": [
    {
      "cell_type": "markdown",
      "metadata": {
        "id": "view-in-github",
        "colab_type": "text"
      },
      "source": [
        "<a href=\"https://colab.research.google.com/github/gimhanul/dataAnalysis/blob/master/04_codelab1_json.ipynb\" target=\"_parent\"><img src=\"https://colab.research.google.com/assets/colab-badge.svg\" alt=\"Open In Colab\"/></a>"
      ]
    },
    {
      "cell_type": "markdown",
      "metadata": {
        "id": "6XhtXcXjl_ui"
      },
      "source": [
        "# JSON 모듈"
      ]
    },
    {
      "cell_type": "markdown",
      "metadata": {
        "id": "f_b-XYt5mIbL"
      },
      "source": [
        "\n",
        "## **JSON(JavaScript Object Notation)**\n",
        "+ 데이타를 교환하는 포맷으로 키-값의 쌍으로 이루어진 컬렉션\n",
        "+ 데이터 포맷이 단순하고 유연함\n",
        "+ 웹 상에서 데이터를 교환하는 데 많이 사용되고 있음"
      ]
    },
    {
      "cell_type": "markdown",
      "metadata": {
        "id": "YZrPobMcmMNx"
      },
      "source": [
        "## **Python  JSON 표준 라이브러리**\n",
        "```python\n",
        "import json\n",
        "```"
      ]
    },
    {
      "cell_type": "code",
      "metadata": {
        "id": "CYrJN8t2mOsQ"
      },
      "source": [
        "import json"
      ],
      "execution_count": 1,
      "outputs": []
    },
    {
      "cell_type": "markdown",
      "metadata": {
        "id": "lOsdPRUDmgCb"
      },
      "source": [
        "### **JSON 인코딩**\n",
        "\n",
        "```python\n",
        "json.dumps()\n",
        "```\n",
        "\n",
        "+ Python 타입의 데이터를 JSON 문자열로 변경\n",
        "+ 딕션너리, 리스트, 튜플을 JSON 문자열로 변경\n",
        "+ 반환값은 JSON 표현을 갖는 문자열(str 타입)\n",
        "+ \"indent\" 옵션\n",
        " - JSON 문자열을 읽기 편하게  Identation이 적용된 문자열 반환\n",
        " ```python\n",
        "    json.dumps(파이썬자료, indent=4)\n",
        "  ```\n",
        "+ 한글 처리 \n",
        " - ensure_ascii=False\n",
        " ```python\n",
        "    json.dumps(파이썬자료, ensure_ascii=False)\n",
        "  ```\n"
      ]
    },
    {
      "cell_type": "markdown",
      "metadata": {
        "id": "_N83QELN81Uu"
      },
      "source": [
        "&#9997; **python 노트: 컬렉션자료형(collection data type)**\n",
        "\n",
        "---\n",
        "\n",
        "+ 여러 요소를 묶어서 처리할 수 있는 자료형  \n",
        "<img src=\"https://drive.google.com/uc?export=view&id=1qNHKZPJv546haViE6KBY3kg8gUlHJm_F\" width=\"80%\">\n",
        "\n",
        "\n",
        "\n",
        "  + **리스트(list)**\n",
        "    - 리스트의 각 요소는 순서를 가지고 있음\n",
        "    - 대괄호([])로 작성되며 각 요소는 쉼표(,)로 구분\n",
        "    - 요소를 추가(append), 수정, 삭제(pop, remove) 가능\n",
        "\n",
        "  + **튜플(tuple)**\n",
        "    + 튜플의 각 요소는 순서를 가지고 있음\n",
        "    + 괄호(())로 작성되며 각 요소는 쉼표(,)로 구분\n",
        "    + 요소를 추가, 수정, 삭제 불가능\n",
        "    + **한번 결정된 요소는 변경 불가능**\n",
        "    + **인덱싱과 슬라이싱은 리스트와 동일**\n",
        "    + 각 요소에 변수 할당 가능\n",
        "      - x, y = (10, 20)\n",
        "\n",
        "  + **딕션너리(dictionary)**\n",
        "    - 키(key)와 값(value) 쌍을 요소로 가짐\n",
        "      - 요소 키 컬렉션  : 딕션너리명.keys()\n",
        "      - 요소 값 컬렉션 : 딕션너리명.values()\n",
        "    - 중괄호({})로 작성되며 각 요소는 쉼표(,)로 구분\n",
        "    - 순서 없음 \n",
        "    - 키는 변경할 수 없으며 값은 변경가능 \n",
        "\n",
        "  + **집합(set)** \n",
        "    - 중복 없는 요소로만 구성\n",
        "    - 중괄호({}) 작성되며 각 요소는 쉼표(,)로 구분\n",
        "    - 순서 없음\n",
        "    - 집합 연산 가능 \n",
        "      - 교집합(&), 합집합(|), 차집합(-)\n",
        "---"
      ]
    },
    {
      "cell_type": "code",
      "metadata": {
        "colab": {
          "base_uri": "https://localhost:8080/"
        },
        "id": "uKg5Uryimee7",
        "outputId": "5ec20ec2-ec28-4dc7-e54a-6b5c33f1cc87"
      },
      "source": [
        "jdata = {\n",
        "    \"request_id\": \"0\",\n",
        "    \"return_type\": \"omAnalysis\",\n",
        "    \"result\": 0,\n",
        "    \"reason\": \"\",\n",
        "    \"return_object\": {\n",
        "        \"query\": \"한국의 가을은 매우 아름답습니다.\",\n",
        "        \"type\": \"감성분석\",\n",
        "        \"score\": 0.9999995231628418,\n",
        "        \"label\": \"긍정\"\n",
        "    },\n",
        "    \"result_code\": \"success\"\n",
        "}\n",
        "print(type(jdata))"
      ],
      "execution_count": 2,
      "outputs": [
        {
          "output_type": "stream",
          "name": "stdout",
          "text": [
            "<class 'dict'>\n"
          ]
        }
      ]
    },
    {
      "cell_type": "code",
      "metadata": {
        "colab": {
          "base_uri": "https://localhost:8080/",
          "height": 36
        },
        "id": "fsfQxHfQs3ST",
        "outputId": "1e3b2e38-52cf-446a-9b7c-53b49e659eed"
      },
      "source": [
        " #긍정 자료 추출\n",
        "jdata['return_object']['label']"
      ],
      "execution_count": 5,
      "outputs": [
        {
          "output_type": "execute_result",
          "data": {
            "application/vnd.google.colaboratory.intrinsic+json": {
              "type": "string"
            },
            "text/plain": [
              "'긍정'"
            ]
          },
          "metadata": {},
          "execution_count": 5
        }
      ]
    },
    {
      "cell_type": "code",
      "metadata": {
        "colab": {
          "base_uri": "https://localhost:8080/"
        },
        "id": "1PGydmbbkD-a",
        "outputId": "ffbc8ec3-dffc-4e60-f37f-655d8cf59399"
      },
      "source": [
        "#json 자료 인코딩  \n",
        "jsonStr = json.dumps(jdata)\n",
        "print(jsonStr)\n",
        "print(type(jsonStr))"
      ],
      "execution_count": 6,
      "outputs": [
        {
          "output_type": "stream",
          "name": "stdout",
          "text": [
            "{\"request_id\": \"0\", \"return_type\": \"omAnalysis\", \"result\": 0, \"reason\": \"\", \"return_object\": {\"query\": \"\\ud55c\\uad6d\\uc758 \\uac00\\uc744\\uc740 \\ub9e4\\uc6b0 \\uc544\\ub984\\ub2f5\\uc2b5\\ub2c8\\ub2e4.\", \"type\": \"\\uac10\\uc131\\ubd84\\uc11d\", \"score\": 0.9999995231628418, \"label\": \"\\uae0d\\uc815\"}, \"result_code\": \"success\"}\n",
            "<class 'str'>\n"
          ]
        }
      ]
    },
    {
      "cell_type": "code",
      "metadata": {
        "colab": {
          "base_uri": "https://localhost:8080/"
        },
        "id": "bk2Ybf7Bm3UQ",
        "outputId": "bddf8894-db6b-44a5-d031-4430e003adbb"
      },
      "source": [
        "# json 자료 인코딩 \n",
        "jsonStr1 = json.dumps(jdata, indent='\\t') #indent를 통해서 보기 좋게\n",
        "print(jsonStr1)\n",
        "print(type(jsonStr1))"
      ],
      "execution_count": null,
      "outputs": [
        {
          "output_type": "stream",
          "text": [
            "{\n",
            "\t\"request_id\": \"0\",\n",
            "\t\"return_type\": \"omAnalysis\",\n",
            "\t\"result\": 0,\n",
            "\t\"reason\": \"\",\n",
            "\t\"return_object\": {\n",
            "\t\t\"query\": \"\\ud55c\\uad6d\\uc758 \\uac00\\uc744\\uc740 \\ub9e4\\uc6b0 \\uc544\\ub984\\ub2f5\\uc2b5\\ub2c8\\ub2e4.\",\n",
            "\t\t\"type\": \"\\uac10\\uc131\\ubd84\\uc11d\",\n",
            "\t\t\"score\": 0.9999995231628418,\n",
            "\t\t\"label\": \"\\uae0d\\uc815\"\n",
            "\t},\n",
            "\t\"result_code\": \"success\"\n",
            "}\n",
            "<class 'str'>\n"
          ],
          "name": "stdout"
        }
      ]
    },
    {
      "cell_type": "code",
      "metadata": {
        "colab": {
          "base_uri": "https://localhost:8080/"
        },
        "id": "fk_y1m9om7-C",
        "outputId": "ca76292e-077f-4d55-ac98-a719a6e47d86"
      },
      "source": [
        "# json 자료 인코딩\n",
        "jsonStr2 = json.dumps(jdata, indent='\\t', ensure_ascii=False) #한글 안 깨지게\n",
        "print(jsonStr2)\n",
        "print(type(jsonStr2))"
      ],
      "execution_count": 7,
      "outputs": [
        {
          "output_type": "stream",
          "name": "stdout",
          "text": [
            "{\n",
            "\t\"request_id\": \"0\",\n",
            "\t\"return_type\": \"omAnalysis\",\n",
            "\t\"result\": 0,\n",
            "\t\"reason\": \"\",\n",
            "\t\"return_object\": {\n",
            "\t\t\"query\": \"한국의 가을은 매우 아름답습니다.\",\n",
            "\t\t\"type\": \"감성분석\",\n",
            "\t\t\"score\": 0.9999995231628418,\n",
            "\t\t\"label\": \"긍정\"\n",
            "\t},\n",
            "\t\"result_code\": \"success\"\n",
            "}\n",
            "<class 'str'>\n"
          ]
        }
      ]
    },
    {
      "cell_type": "code",
      "metadata": {
        "colab": {
          "base_uri": "https://localhost:8080/",
          "height": 55
        },
        "id": "39XFflaZx6c_",
        "outputId": "0055cafb-2332-4def-a2f6-780445f751d7"
      },
      "source": [
        "jsonStr2"
      ],
      "execution_count": 16,
      "outputs": [
        {
          "output_type": "execute_result",
          "data": {
            "application/vnd.google.colaboratory.intrinsic+json": {
              "type": "string"
            },
            "text/plain": [
              "'{\\n\\t\"request_id\": \"0\",\\n\\t\"return_type\": \"omAnalysis\",\\n\\t\"result\": 0,\\n\\t\"reason\": \"\",\\n\\t\"return_object\": {\\n\\t\\t\"query\": \"한국의 가을은 매우 아름답습니다.\",\\n\\t\\t\"type\": \"감성분석\",\\n\\t\\t\"score\": 0.9999995231628418,\\n\\t\\t\"label\": \"긍정\"\\n\\t},\\n\\t\"result_code\": \"success\"\\n}'"
            ]
          },
          "metadata": {},
          "execution_count": 16
        }
      ]
    },
    {
      "cell_type": "code",
      "source": [
        "from google.colab import drive\n",
        "drive.mount('/content/drive')"
      ],
      "metadata": {
        "colab": {
          "base_uri": "https://localhost:8080/"
        },
        "id": "gR850UKQ_Dc6",
        "outputId": "4e27a2d3-bdc4-4b8d-8f3e-e894130eb043"
      },
      "execution_count": 14,
      "outputs": [
        {
          "output_type": "stream",
          "name": "stdout",
          "text": [
            "Mounted at /content/drive\n"
          ]
        }
      ]
    },
    {
      "cell_type": "markdown",
      "metadata": {
        "id": "CUrA8K6Sm6lK"
      },
      "source": [
        "### **JSON 디코딩**\n",
        "\n",
        "\n",
        "```python\n",
        "json.loads()\n",
        "```\n",
        "\n",
        "+ JSON 문자열을 딕션너리, 리스트, 튜플과 같은 Python 타입으로 변경"
      ]
    },
    {
      "cell_type": "code",
      "metadata": {
        "colab": {
          "base_uri": "https://localhost:8080/"
        },
        "id": "X7tCVVMxyVD3",
        "outputId": "9e712b0a-6b0e-4e74-a887-143324f40696"
      },
      "source": [
        "j2 = json.loads(jsonStr2)\n",
        "print(j2)\n",
        "print(type(j2))"
      ],
      "execution_count": 9,
      "outputs": [
        {
          "output_type": "stream",
          "name": "stdout",
          "text": [
            "{'request_id': '0', 'return_type': 'omAnalysis', 'result': 0, 'reason': '', 'return_object': {'query': '한국의 가을은 매우 아름답습니다.', 'type': '감성분석', 'score': 0.9999995231628418, 'label': '긍정'}, 'result_code': 'success'}\n",
            "<class 'dict'>\n"
          ]
        }
      ]
    },
    {
      "cell_type": "code",
      "metadata": {
        "colab": {
          "base_uri": "https://localhost:8080/",
          "height": 35
        },
        "id": "ch52DpysyrrR",
        "outputId": "000c801e-6776-4e5a-c5e6-7badf3d42260"
      },
      "source": [
        "j2['return_object']['label']"
      ],
      "execution_count": null,
      "outputs": [
        {
          "output_type": "execute_result",
          "data": {
            "application/vnd.google.colaboratory.intrinsic+json": {
              "type": "string"
            },
            "text/plain": [
              "'긍정'"
            ]
          },
          "metadata": {
            "tags": []
          },
          "execution_count": 41
        }
      ]
    },
    {
      "cell_type": "markdown",
      "metadata": {
        "id": "vaYPSVcEomOl"
      },
      "source": [
        "&#9997; **python 노트 : with .. as**\n",
        "\n",
        "\n",
        "---\n",
        "\n",
        "\n",
        "```python\n",
        "with open('파일명', '모드') as 파일객체 :\n",
        "```\n",
        "+ 파일을 해당 모드로 open()하면 with구문 종료 후에 자동 close()\n",
        "+ 모드 종류\n",
        "  + 'r' : 읽기 \n",
        "  + 'w' : 쓰기  \n",
        "  + 'a' : 추가 \n",
        "\n",
        "---"
      ]
    },
    {
      "cell_type": "code",
      "metadata": {
        "colab": {
          "base_uri": "https://localhost:8080/"
        },
        "id": "uNyTWhDKnt4a",
        "outputId": "d45e8f5a-2341-4d37-c80c-9f3955f5f735"
      },
      "source": [
        "with open('/content/drive/MyDrive/datathon/class/data/data.json', 'r') as fp :\n",
        "  ljson = json.load(fp) #file에서 불러올 때는 loads 안 쓰고 load 씀.\n",
        "\n",
        "print(type(ljson))\n",
        "print(ljson)\n",
        "print(ljson.keys())"
      ],
      "execution_count": 20,
      "outputs": [
        {
          "output_type": "stream",
          "name": "stdout",
          "text": [
            "<class 'dict'>\n",
            "{'request_id': '0', 'return_type': 'omAnalysis', 'result': 0, 'reason': '', 'return_object': {'query': '한국의 가을은 매우 아름답습니다.', 'type': '감성분석', 'score': 0.9999995231628418, 'label': '긍정'}, 'result_code': 'success'}\n",
            "dict_keys(['request_id', 'return_type', 'result', 'reason', 'return_object', 'result_code'])\n"
          ]
        }
      ]
    },
    {
      "cell_type": "markdown",
      "metadata": {
        "id": "WNrjAo72uMlq"
      },
      "source": [
        "## 해결문제\n",
        "---\n",
        "일일 박스 오피스 자료에서 1위~10위ㄲㅏ지의 영화 제목을 출력해보세요."
      ]
    },
    {
      "cell_type": "code",
      "source": [
        "mv = '''\n",
        "{\"boxOfficeResult\":{\"boxofficeType\":\"일별 박스오피스\",\"showRange\":\"20220103~20220103\",\"dailyBoxOfficeList\":[{\"rnum\":\"1\",\"rank\":\"1\",\"rankInten\":\"0\",\"rankOldAndNew\":\"OLD\",\"movieCd\":\"20210028\",\"movieNm\":\"스파이더맨: 노 웨이 홈\",\"openDt\":\"2021-12-15\",\"salesAmt\":\"667909720\",\"salesShare\":\"62.5\",\"salesInten\":\"-1649563350\",\"salesChange\":\"-71.2\",\"salesAcc\":\"61641886910\",\"audiCnt\":\"66799\",\"audiInten\":\"-158578\",\"audiChange\":\"-70.4\",\"audiAcc\":\"6141103\",\"scrnCnt\":\"1985\",\"showCnt\":\"6840\"},{\"rnum\":\"2\",\"rank\":\"2\",\"rankInten\":\"0\",\"rankOldAndNew\":\"OLD\",\"movieCd\":\"20194403\",\"movieNm\":\"킹스맨: 퍼스트 에이전트\",\"openDt\":\"2021-12-22\",\"salesAmt\":\"231886460\",\"salesShare\":\"21.7\",\"salesInten\":\"-489853890\",\"salesChange\":\"-67.9\",\"salesAcc\":\"7971389280\",\"audiCnt\":\"23748\",\"audiInten\":\"-46491\",\"audiChange\":\"-66.2\",\"audiAcc\":\"800139\",\"scrnCnt\":\"861\",\"showCnt\":\"2459\"},{\"rnum\":\"3\",\"rank\":\"3\",\"rankInten\":\"0\",\"rankOldAndNew\":\"OLD\",\"movieCd\":\"20217807\",\"movieNm\":\"해피 뉴 이어\",\"openDt\":\"2021-12-29\",\"salesAmt\":\"96467670\",\"salesShare\":\"9.0\",\"salesInten\":\"-201370440\",\"salesChange\":\"-67.6\",\"salesAcc\":\"1833383770\",\"audiCnt\":\"10181\",\"audiInten\":\"-19568\",\"audiChange\":\"-65.8\",\"audiAcc\":\"196396\",\"scrnCnt\":\"665\",\"showCnt\":\"1776\"},{\"rnum\":\"4\",\"rank\":\"4\",\"rankInten\":\"0\",\"rankOldAndNew\":\"OLD\",\"movieCd\":\"20211281\",\"movieNm\":\"매트릭스: 리저렉션\",\"openDt\":\"2021-12-22\",\"salesAmt\":\"16642200\",\"salesShare\":\"1.6\",\"salesInten\":\"-34263830\",\"salesChange\":\"-67.3\",\"salesAcc\":\"2054031240\",\"audiCnt\":\"1843\",\"audiInten\":\"-3388\",\"audiChange\":\"-64.8\",\"audiAcc\":\"204748\",\"scrnCnt\":\"295\",\"showCnt\":\"393\"},{\"rnum\":\"5\",\"rank\":\"5\",\"rankInten\":\"2\",\"rankOldAndNew\":\"OLD\",\"movieCd\":\"20218415\",\"movieNm\":\"드라이브 마이 카\",\"openDt\":\"2021-12-23\",\"salesAmt\":\"9918610\",\"salesShare\":\"0.9\",\"salesInten\":\"-11313500\",\"salesChange\":\"-53.3\",\"salesAcc\":\"218078760\",\"audiCnt\":\"1105\",\"audiInten\":\"-933\",\"audiChange\":\"-45.8\",\"audiAcc\":\"23696\",\"scrnCnt\":\"86\",\"showCnt\":\"107\"},{\"rnum\":\"6\",\"rank\":\"6\",\"rankInten\":\"0\",\"rankOldAndNew\":\"OLD\",\"movieCd\":\"20211768\",\"movieNm\":\"신데렐라 2: 마법에 걸린 왕자\",\"openDt\":\"2021-12-22\",\"salesAmt\":\"8823800\",\"salesShare\":\"0.8\",\"salesInten\":\"-16458010\",\"salesChange\":\"-65.1\",\"salesAcc\":\"323665220\",\"audiCnt\":\"1022\",\"audiInten\":\"-1696\",\"audiChange\":\"-62.4\",\"audiAcc\":\"36771\",\"scrnCnt\":\"115\",\"showCnt\":\"140\"},{\"rnum\":\"7\",\"rank\":\"7\",\"rankInten\":\"-2\",\"rankOldAndNew\":\"OLD\",\"movieCd\":\"20210864\",\"movieNm\":\"엔칸토: 마법의 세계\",\"openDt\":\"2021-11-24\",\"salesAmt\":\"8059540\",\"salesShare\":\"0.8\",\"salesInten\":\"-19923770\",\"salesChange\":\"-71.2\",\"salesAcc\":\"5952486030\",\"audiCnt\":\"897\",\"audiInten\":\"-2070\",\"audiChange\":\"-69.8\",\"audiAcc\":\"627528\",\"scrnCnt\":\"98\",\"showCnt\":\"132\"},{\"rnum\":\"8\",\"rank\":\"8\",\"rankInten\":\"0\",\"rankOldAndNew\":\"OLD\",\"movieCd\":\"20218390\",\"movieNm\":\"램\",\"openDt\":\"2021-12-29\",\"salesAmt\":\"4984880\",\"salesShare\":\"0.5\",\"salesInten\":\"-11934030\",\"salesChange\":\"-70.5\",\"salesAcc\":\"99159070\",\"audiCnt\":\"533\",\"audiInten\":\"-1030\",\"audiChange\":\"-65.9\",\"audiAcc\":\"11058\",\"scrnCnt\":\"88\",\"showCnt\":\"110\"},{\"rnum\":\"9\",\"rank\":\"9\",\"rankInten\":\"0\",\"rankOldAndNew\":\"NEW\",\"movieCd\":\"20202433\",\"movieNm\":\"괴짜들의 로맨스\",\"openDt\":\"2021-11-17\",\"salesAmt\":\"706000\",\"salesShare\":\"0.1\",\"salesInten\":\"706000\",\"salesChange\":\"100\",\"salesAcc\":\"52382890\",\"audiCnt\":\"350\",\"audiInten\":\"350\",\"audiChange\":\"100\",\"audiAcc\":\"8101\",\"scrnCnt\":\"2\",\"showCnt\":\"2\"},{\"rnum\":\"10\",\"rank\":\"10\",\"rankInten\":\"0\",\"rankOldAndNew\":\"NEW\",\"movieCd\":\"20218764\",\"movieNm\":\"씽2게더\",\"openDt\":\"2022-01-05\",\"salesAmt\":\"2403000\",\"salesShare\":\"0.2\",\"salesInten\":\"2403000\",\"salesChange\":\"100\",\"salesAcc\":\"5021000\",\"audiCnt\":\"267\",\"audiInten\":\"267\",\"audiChange\":\"100\",\"audiAcc\":\"557\",\"scrnCnt\":\"2\",\"showCnt\":\"2\"}]}}\n",
        "'''\n",
        "mv = json.loads(mv)\n",
        "\n",
        "for m in mv['boxOfficeResult']['dailyBoxOfficeList']:\n",
        "  print(m['movieNm'])"
      ],
      "metadata": {
        "colab": {
          "base_uri": "https://localhost:8080/"
        },
        "id": "EVxUSeidAneM",
        "outputId": "848989a8-3459-4507-af95-0cf862c720bf"
      },
      "execution_count": 40,
      "outputs": [
        {
          "output_type": "stream",
          "name": "stdout",
          "text": [
            "스파이더맨: 노 웨이 홈\n",
            "킹스맨: 퍼스트 에이전트\n",
            "해피 뉴 이어\n",
            "매트릭스: 리저렉션\n",
            "드라이브 마이 카\n",
            "신데렐라 2: 마법에 걸린 왕자\n",
            "엔칸토: 마법의 세계\n",
            "램\n",
            "괴짜들의 로맨스\n",
            "씽2게더\n"
          ]
        }
      ]
    }
  ]
}